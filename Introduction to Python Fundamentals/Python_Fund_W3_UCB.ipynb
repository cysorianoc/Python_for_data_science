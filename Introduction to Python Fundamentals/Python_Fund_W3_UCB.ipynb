{
  "nbformat": 4,
  "nbformat_minor": 0,
  "metadata": {
    "colab": {
      "provenance": [],
      "authorship_tag": "ABX9TyNmAzVT0jHncskKLDSQauhA",
      "include_colab_link": true
    },
    "kernelspec": {
      "name": "python3",
      "display_name": "Python 3"
    },
    "language_info": {
      "name": "python"
    }
  },
  "cells": [
    {
      "cell_type": "markdown",
      "metadata": {
        "id": "view-in-github",
        "colab_type": "text"
      },
      "source": [
        "<a href=\"https://colab.research.google.com/github/cysorianoc/Python_for_data_science/blob/main/Python_Fund_W3_UCB.ipynb\" target=\"_parent\"><img src=\"https://colab.research.google.com/assets/colab-badge.svg\" alt=\"Open In Colab\"/></a>"
      ]
    },
    {
      "cell_type": "markdown",
      "source": [
        "# Week 3: Flow control\n",
        "## Branching and Flow Control\n",
        "\n",
        "### Flow Control\n",
        "- Is the logical design in which set of statements execute.\n",
        "\n",
        "- So far, the programs we wrote, are executing line by line or **Sequence Structure**.\n",
        "\n",
        "- We need more:\n",
        "    - Branching - decision structure. The branching gives us the alternatives for future possibilities.\n",
        "\n",
        "    - Repetition - Looping structure. The same code run multiple times.![Capture.PNG](data:image/png;base64,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)\n"
      ],
      "metadata": {
        "id": "1GGtgBbe5wpS"
      }
    },
    {
      "cell_type": "markdown",
      "source": [
        "## Branching\n",
        "- We can have specific actionsperformed only if a condition is satisfied.\n",
        "    - Also known as **Decision ** structure or **Selection** structure.\n",
        "    - Decision yes/no -> process\n",
        "    ![image.png](data:image/png;base64,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)\n",
        "    - When a condition is true, the code will execute.\n",
        "\n",
        "    "
      ],
      "metadata": {
        "id": "M8oBXJe6_oAg"
      }
    },
    {
      "cell_type": "markdown",
      "source": [
        "### The *if* statement\n",
        "- We use *if* to start a branching.\n",
        "\n",
        "``if condition: \\\n",
        "  statements``\n",
        "\n",
        "- The first line known as the *if* clause:\n",
        "    - Includes the keyword *if*\n",
        "    - Specifies the *condition* with a **:**\n",
        "    - List statements with one **indention**. Indicates that all statements are inside the process when the decision is true.\n",
        "    - Only when the condition is tested to be true, the statements will be executed; otherwise, the block will be skipped."
      ],
      "metadata": {
        "id": "MZwRb3JTAy3N"
      }
    },
    {
      "cell_type": "markdown",
      "source": [
        "### Example: absolute value\n",
        "\n",
        "- We can use *if* to convert any number x to absolute value."
      ],
      "metadata": {
        "id": "1CyaOrQLCrdb"
      }
    },
    {
      "cell_type": "code",
      "source": [
        "# Compute the absolute value\n",
        "x=float(input('please enter a number: '))\n",
        "if x < 0:\n",
        "  x=-x\n",
        "print('Absolute value of x is: ',x)"
      ],
      "metadata": {
        "colab": {
          "base_uri": "https://localhost:8080/"
        },
        "id": "-DYq9pKtDAZ6",
        "outputId": "f90030a4-2c6c-4eb7-99b4-e60f9343d60d"
      },
      "execution_count": null,
      "outputs": [
        {
          "output_type": "stream",
          "name": "stdout",
          "text": [
            "please enter a number: -0.1\n",
            "Absolute value of x is:  0.1\n"
          ]
        }
      ]
    },
    {
      "cell_type": "markdown",
      "metadata": {
        "id": "cnAUJprJdh9_"
      },
      "source": [
        "# Welcome to our Lab Practice!"
      ]
    },
    {
      "cell_type": "markdown",
      "metadata": {
        "id": "vVYcayGedmms"
      },
      "source": [
        "This lab is about branching - if statements. Are you ready? Let's get started!"
      ]
    },
    {
      "cell_type": "markdown",
      "metadata": {
        "id": "JP8eGBVyeSQx"
      },
      "source": [
        "You will find some small tasks in sections below."
      ]
    },
    {
      "cell_type": "markdown",
      "metadata": {
        "id": "EZ42d1Sue0Zp"
      },
      "source": [
        "###Task: check if a number is even.\n",
        "\n",
        "You should ask the user to enter an integer, if it is an even number, print \"it is even\"; otherwise, print nothing.\n",
        "\n",
        "hint: to test if a number is even, we need to use %2 and check the reminder is 0 or not. If it is 0, then the number is even."
      ]
    },
    {
      "cell_type": "code",
      "metadata": {
        "id": "yDzNIHsSeu85",
        "colab": {
          "base_uri": "https://localhost:8080/"
        },
        "outputId": "e4dd0a0c-6433-43de-dd09-cdacd6822294"
      },
      "source": [
        "x=int(input('enter an integer: '))\n",
        "if x%2==0:\n",
        "  print(x,' is even')"
      ],
      "execution_count": null,
      "outputs": [
        {
          "output_type": "stream",
          "name": "stdout",
          "text": [
            "enter an integer: 6\n",
            "6  is even\n"
          ]
        }
      ]
    },
    {
      "cell_type": "markdown",
      "metadata": {
        "id": "u8WEYfEqIbWX"
      },
      "source": [
        "###Task: check if a number is odd.\n",
        "\n",
        "Similar to the task above. However, this time, you only print \"It is odd\" when the number entered is odd."
      ]
    },
    {
      "cell_type": "code",
      "metadata": {
        "id": "LKSmcHRRJUYY",
        "colab": {
          "base_uri": "https://localhost:8080/"
        },
        "outputId": "bfe8647f-f843-401a-8713-08e456b8226a"
      },
      "source": [
        "x=int(input('enter an integer: '))\n",
        "if x%2!=0:\n",
        "  print(x,' is odd')"
      ],
      "execution_count": null,
      "outputs": [
        {
          "output_type": "stream",
          "name": "stdout",
          "text": [
            "enter an integer: 3\n",
            "3  is odd\n"
          ]
        }
      ]
    },
    {
      "cell_type": "markdown",
      "metadata": {
        "id": "-__o8ovbfSEH"
      },
      "source": [
        "###Task: check if a number is divisible by 6\n",
        "\n",
        "You should ask the user to enter an integer, if it is dividable by 6, print \"It can be divisible by 6\"."
      ]
    },
    {
      "cell_type": "code",
      "metadata": {
        "id": "hOpxhSKog18Y",
        "colab": {
          "base_uri": "https://localhost:8080/"
        },
        "outputId": "4a64b87e-f875-40c7-adfe-17ad57f03512"
      },
      "source": [
        "x=int(input('enter an integer: '))\n",
        "if x%6==0:\n",
        "  print(x,' can be divisible by 6')"
      ],
      "execution_count": null,
      "outputs": [
        {
          "output_type": "stream",
          "name": "stdout",
          "text": [
            "enter an integer: 12\n",
            "12  can be divisible by 6\n"
          ]
        }
      ]
    },
    {
      "cell_type": "markdown",
      "metadata": {
        "id": "uZYVZQIvIlPy"
      },
      "source": [
        "###Task: check if an input is 'STOP'  \n",
        "\n",
        "Ask the user to enter some words, and only when the user entered \"STOP\", you print \"Bye\"."
      ]
    },
    {
      "cell_type": "code",
      "metadata": {
        "id": "Y_3dcyvcQ2GI",
        "colab": {
          "base_uri": "https://localhost:8080/"
        },
        "outputId": "879de1c7-975f-41b4-d1cb-1dbedee26184"
      },
      "source": [
        "word=input('enter a word: ')\n",
        "if word=='STOP':\n",
        "  print('Bye')"
      ],
      "execution_count": null,
      "outputs": [
        {
          "output_type": "stream",
          "name": "stdout",
          "text": [
            "enter a word: STOP\n",
            "Bye\n"
          ]
        }
      ]
    },
    {
      "cell_type": "markdown",
      "metadata": {
        "id": "qKFwdIypmt5J"
      },
      "source": [
        "### Task: Password Setup\n",
        "\n",
        "*   Ask the user to enter a new password.\n",
        "*   Ask the user to enter the password again.\n",
        "*   If the second input matches the first one, print \"You are all set\"\n"
      ]
    },
    {
      "cell_type": "code",
      "metadata": {
        "id": "6pqvFtl8nHei",
        "colab": {
          "base_uri": "https://localhost:8080/"
        },
        "outputId": "2d6dd555-63fc-4705-f4d7-fd1ecf3db2fa"
      },
      "source": [
        "password=input('Enter a new password: ')\n",
        "password_rep=input('Enter the password again: ')\n",
        "if password==password_rep:\n",
        "  print('You are all set')\n",
        "else:\n",
        "  print('Please try again, the password does not match')"
      ],
      "execution_count": null,
      "outputs": [
        {
          "output_type": "stream",
          "name": "stdout",
          "text": [
            "Enter a new password: mypassword\n",
            "Enter the password again: mypassword\n",
            "You are all set\n"
          ]
        }
      ]
    },
    {
      "cell_type": "markdown",
      "source": [
        "## Multiple Branches\n",
        "- We can have alternative actions performed based on a condition:\n",
        "\n",
        "![image.png](data:image/png;base64,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)\n",
        "\n",
        "\n",
        "\n"
      ],
      "metadata": {
        "id": "jLe8KXMgMPNs"
      }
    },
    {
      "cell_type": "markdown",
      "source": [
        "### The *if-else* statement\n",
        "- We can also use if-else to start a branching:\n",
        "\n",
        "``if condition: \\\n",
        "statements \\\n",
        "else: \\\n",
        "    statements``\n",
        "- *if* clause must be aligned:\n",
        "   - *if* clause specifies the *condition* with a *:*\n",
        "   -*else* clause with a *:*\n",
        "   - List statements with consistent indention.\n",
        "\n",
        "### Example: Even or Odd\n",
        "- We can use *if-else* to check an integer x is even or odd.\n"
      ],
      "metadata": {
        "id": "PWTK7T0hOJdi"
      }
    },
    {
      "cell_type": "code",
      "source": [
        "# even or odd checking\n",
        "x=int(input('please enter a positive integer: '))\n",
        "if x%2==0:  # remember we need the relational operator with double equal.\n",
        "  print(x,'is even.') # this is our plan A\n",
        "else:\n",
        "  print(x,'is odd.') # this is our plan B"
      ],
      "metadata": {
        "colab": {
          "base_uri": "https://localhost:8080/"
        },
        "id": "HEK-0zOxRXPq",
        "outputId": "849ba783-1d24-47f8-9709-4bd4461780e2"
      },
      "execution_count": null,
      "outputs": [
        {
          "output_type": "stream",
          "name": "stdout",
          "text": [
            "please enter a positive integer: 6\n",
            "6 is even.\n"
          ]
        }
      ]
    },
    {
      "cell_type": "markdown",
      "source": [
        "### Example: Prime or Not\n",
        "Prime number is a positive integer that can only be dividable by one and itself. For instance 4 is not a prime as it is dividible by 1, 2 and 4. 3 is a prime as it is divisible by 1 and itself only.\n",
        "\n",
        "- We can use if-else to check an integer x within 10 is prime or not.\n"
      ],
      "metadata": {
        "id": "Y5DhG7zRSIuo"
      }
    },
    {
      "cell_type": "code",
      "source": [
        "# prime in 10 [1,2,3,5,7] this is a simple version\n",
        "x=int(input('please enter a positive integer within 10: '))\n",
        "if x==1 or x==2 or x==3 or x==5 or x==7:\n",
        "  print(x, 'is prime') # We need a compound condition\n",
        "else:\n",
        "  print(x,'is not prime')"
      ],
      "metadata": {
        "colab": {
          "base_uri": "https://localhost:8080/"
        },
        "id": "Zlbp7xajSALX",
        "outputId": "e5b952be-b4ab-4dc0-8b10-0507975d0832"
      },
      "execution_count": null,
      "outputs": [
        {
          "output_type": "stream",
          "name": "stdout",
          "text": [
            "please enter a positive integer within 10: 7\n",
            "7 is prime\n"
          ]
        }
      ]
    },
    {
      "cell_type": "markdown",
      "metadata": {
        "id": "2bUMNkPHcfR1"
      },
      "source": [
        "# Welcome to our Lab Practice!"
      ]
    },
    {
      "cell_type": "markdown",
      "metadata": {
        "id": "5n7GrHprcfR2"
      },
      "source": [
        "This lab is about branching - if-else statements. Are you ready? Let's get started!"
      ]
    },
    {
      "cell_type": "markdown",
      "metadata": {
        "id": "6Ro5o9ItcfR2"
      },
      "source": [
        "You will find some small tasks in sections below."
      ]
    },
    {
      "cell_type": "markdown",
      "metadata": {
        "id": "Ts9wWA-AcfR3"
      },
      "source": [
        "###Task: Check if the weather is good for hiking.\n",
        "\n",
        "You should ask the user to enter a float value as the temporature in Fahrenheit.\n",
        "*   If the temporature is within [60, 80], print \"Perfect\";\n",
        "*   otherwise, print \"Not that good\"."
      ]
    },
    {
      "cell_type": "code",
      "metadata": {
        "colab": {
          "base_uri": "https://localhost:8080/"
        },
        "id": "KDbgfkIzcfR3",
        "outputId": "14b62ffb-3db0-4ce6-bd88-60bcd1255add"
      },
      "source": [
        "temp=float(input('Enter current temperature: '))\n",
        "if temp>60 and temp<80:\n",
        "  print('Perfect')\n",
        "else:\n",
        "  print('Not that good')"
      ],
      "execution_count": null,
      "outputs": [
        {
          "output_type": "stream",
          "name": "stdout",
          "text": [
            "Enter current temperature: 30\n",
            "Not that good\n"
          ]
        }
      ]
    },
    {
      "cell_type": "markdown",
      "metadata": {
        "id": "R6lKEjTpcfR4"
      },
      "source": [
        "###Task: Check if the user feels happy\n",
        "\n",
        "You should ask the user \"Are you happy now?\".\n",
        "*   If the user enters \"Yes\", print \"Fantastic!\"\n",
        "*   otherwise, print \"How can I help?\""
      ]
    },
    {
      "cell_type": "code",
      "metadata": {
        "colab": {
          "base_uri": "https://localhost:8080/"
        },
        "id": "h9_MKIzdcfR4",
        "outputId": "65ca9bbf-dd99-4e3e-a7d4-dfc3d02e6a57"
      },
      "source": [
        "question=input('Are you happy now? Yes or Not: ')\n",
        "if question=='Yes':\n",
        "  print('Fantastic!')\n",
        "else:\n",
        "  print('How can I help?')\n"
      ],
      "execution_count": null,
      "outputs": [
        {
          "output_type": "stream",
          "name": "stdout",
          "text": [
            "Are you happy now? Yes or Not: No\n",
            "How can I help?\n"
          ]
        }
      ]
    },
    {
      "cell_type": "markdown",
      "metadata": {
        "id": "qfiFWBgXcfR5"
      },
      "source": [
        "###Task: check if your plants need water\n",
        "\n",
        "You should ask the user to enter an integer indicating the level of moisture of the soil (from 1: super dry; to 10: super wet).\n",
        "\n",
        "*   If the level is below 3, print \"Yes, you should water your plants now\"\n",
        "*   otherwise, print \"No. Wait for the soil to be dryer\"."
      ]
    },
    {
      "cell_type": "code",
      "metadata": {
        "id": "vYMy2w9dcfR5",
        "colab": {
          "base_uri": "https://localhost:8080/"
        },
        "outputId": "5ce085de-d584-4be3-a374-a4e440202e57"
      },
      "source": [
        "level=int(input('Indicate the moisture level of the soil: '))\n",
        "if level<3:\n",
        "  print('You should water your plants now')\n",
        "else:\n",
        "  print('No, wait for the soil to be dryer')"
      ],
      "execution_count": null,
      "outputs": [
        {
          "output_type": "stream",
          "name": "stdout",
          "text": [
            "Indicate the moisture level of the soil: 2\n",
            "You should water your plants now\n"
          ]
        }
      ]
    },
    {
      "cell_type": "markdown",
      "metadata": {
        "id": "8fGRh5FviHXB"
      },
      "source": [
        "###Task: check if a student finished Lab2\n",
        "\n",
        "At first, ask the user: \"Do you care about your learning outcome?\"\n",
        "\n",
        "*    If yes, ask the user \"Have your finished M3Lab2?\"\n",
        "**    if yes, print \"Good job!\"\n",
        "**    If no, print \"Get it done ASAP!!!!!!\"\n",
        "*    If no, then print \"As long as you are happy.\""
      ]
    },
    {
      "cell_type": "code",
      "metadata": {
        "id": "OSnp3ZYuiiUj",
        "colab": {
          "base_uri": "https://localhost:8080/"
        },
        "outputId": "9a954b31-3d8e-4fde-edc2-f5c4b04baa41"
      },
      "source": [
        "quest=input('Do you care about your learning outcome? (Yes/No)')\n",
        "if quest=='Yes':\n",
        "  finish=input('Have you finished M3Lab2?')\n",
        "  if finish=='Yes':\n",
        "    print('Good job!')\n",
        "  else:\n",
        "    print('Get it done ASAP!!!')\n",
        "else:\n",
        "  print('As long as you are happy')"
      ],
      "execution_count": null,
      "outputs": [
        {
          "output_type": "stream",
          "name": "stdout",
          "text": [
            "Do you care about your learning outcome? (Yes/No)Yes\n",
            "Have you finished M3Lab2?No\n",
            "Get it done ASAP!!!\n"
          ]
        }
      ]
    },
    {
      "cell_type": "markdown",
      "source": [
        "# Decision tree\n",
        "How can we deal with more than two options ?\n",
        "- We can have specific actions performed based on a **nested condition**.\n",
        "![image.png](data:image/png;base64,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)\n"
      ],
      "metadata": {
        "id": "2QyNu7vx7AkU"
      }
    },
    {
      "cell_type": "markdown",
      "source": [
        "## The *if-elif-else* statement\n",
        "- We can also use ``if-elif-else`` branching: \\\n",
        "``if condition1:`` \\\n",
        " ``statements`` \\\n",
        " ``elif condition2``: \\\n",
        " ``statements`` \\\n",
        " ``else:`` \\\n",
        "- *if* clause, *elif* clause, and *else* clause must be aligned:\n",
        "    - *if* clause and *elif* clause specify the *conditions* with a ``:``\n",
        "    - *else* clause with a ``:``\n",
        "    - List statements with a consistent **indentation**"
      ],
      "metadata": {
        "id": "uLJCyPEB7kQV"
      }
    },
    {
      "cell_type": "code",
      "source": [
        "## Now let's see an example\n",
        "temp=float(input('Please enter temperature of today: '))\n",
        "if temp>80:\n",
        "  print('No, it is too hot')\n",
        "elif temp<60:\n",
        "  print('No, this is too cold')\n",
        "else:\n",
        "  print('Perfect! let\\'s go')"
      ],
      "metadata": {
        "colab": {
          "base_uri": "https://localhost:8080/"
        },
        "id": "PSMqAVnS9NV0",
        "outputId": "b6c369ee-f14a-4836-ac66-9c2e5b026852"
      },
      "execution_count": null,
      "outputs": [
        {
          "output_type": "stream",
          "name": "stdout",
          "text": [
            "Please enter temperature of today: 20\n",
            "No, this is too cold\n"
          ]
        }
      ]
    },
    {
      "cell_type": "code",
      "source": [
        "## Letter grade example\n",
        "## More than three branches, at least five\n",
        "points=float(input('Please enter the point grades of the student [0,100]: '))\n",
        "if points>=90:\n",
        "  print('A')\n",
        "elif points>=80:\n",
        "  print('B')\n",
        "elif points>=70:\n",
        "  print('C')\n",
        "elif points>=60:\n",
        "  print('D')\n",
        "else:\n",
        "  print('F')"
      ],
      "metadata": {
        "colab": {
          "base_uri": "https://localhost:8080/"
        },
        "id": "-6gwucG__MCb",
        "outputId": "cc34f653-3f74-4406-f495-ebb22da318ec"
      },
      "execution_count": null,
      "outputs": [
        {
          "output_type": "stream",
          "name": "stdout",
          "text": [
            "Please enter the point grades of the student [0,100]: 12\n",
            "F\n"
          ]
        }
      ]
    },
    {
      "cell_type": "markdown",
      "metadata": {
        "id": "PesVm-M2_DFa"
      },
      "source": [
        "# Welcome to our Lab Practice!"
      ]
    },
    {
      "cell_type": "markdown",
      "metadata": {
        "id": "Bf-MsfrQ_DFh"
      },
      "source": [
        "This lab is about branching - if-elif-else statements. Are you ready? Let's get started!"
      ]
    },
    {
      "cell_type": "markdown",
      "metadata": {
        "id": "Yu0yu3qI_DFh"
      },
      "source": [
        "You will find some small tasks in sections below."
      ]
    },
    {
      "cell_type": "markdown",
      "metadata": {
        "id": "G-qPrdsF_DFi"
      },
      "source": [
        "###Task: check if a number is positive, negative, or 0.\n",
        "\n",
        "You should ask the user to enter a number, if it is above 0, print \"It is positive\"; if it is below 0, print \"It is negative\"; otherwise, print \"It is zero\"."
      ]
    },
    {
      "cell_type": "code",
      "metadata": {
        "colab": {
          "base_uri": "https://localhost:8080/"
        },
        "id": "Dtbs-kf5_DFi",
        "outputId": "cc2c1d33-cf6e-4dc5-e1d3-5f6a1d4ece9b"
      },
      "source": [
        "number=float(input('Enter any number: '))\n",
        "if number>0:\n",
        "  print('It is positive')\n",
        "elif number<0:\n",
        "  print('It is negative')\n",
        "else:\n",
        "  print('It is zero')"
      ],
      "execution_count": null,
      "outputs": [
        {
          "output_type": "stream",
          "name": "stdout",
          "text": [
            "Enter any number: 0\n",
            "It is zero\n"
          ]
        }
      ]
    },
    {
      "cell_type": "markdown",
      "metadata": {
        "id": "JcX0kpss_DFi"
      },
      "source": [
        "###Task: check how many days current month has.\n",
        "\n",
        "You should ask the user to enter the number indicating the current month, such as 1 as Janurary; then print the days the month has, such as print 31 if the user entered 1. Let's assume there are 28 days in February."
      ]
    },
    {
      "cell_type": "code",
      "metadata": {
        "colab": {
          "base_uri": "https://localhost:8080/"
        },
        "id": "EHNPVrHQ_DFi",
        "outputId": "34f73424-caad-4a90-c398-a007d921b5cb"
      },
      "source": [
        "# this is a long version\n",
        "month=int(input('Enter a number representing a month (i.e., January=1)'))\n",
        "if month==1:\n",
        "  print('31 days')\n",
        "elif month==2:\n",
        "  print('28 days')\n",
        "elif month==3:\n",
        "  print('31 days')\n",
        "elif month==4:\n",
        "  print('30 days')\n",
        "elif month==5:\n",
        "  print('31 days')\n",
        "elif month==6:\n",
        "  print('30 days')\n",
        "elif month==7:\n",
        "  print('31 days')\n",
        "elif month==8:\n",
        "  print('31 days')\n",
        "elif month==9:\n",
        "  print('30 days')\n",
        "elif month==10:\n",
        "  print('31 days')\n",
        "elif month==11:\n",
        "  print('30 days')\n",
        "elif month==12:\n",
        "  print('31 days')\n",
        "else:\n",
        "  print('enter a number between 1 and 12')\n",
        "\n"
      ],
      "execution_count": null,
      "outputs": [
        {
          "output_type": "stream",
          "name": "stdout",
          "text": [
            "Enter a number representing a month (i.e., January=1)15\n",
            "enter a number between 1 and 12\n"
          ]
        }
      ]
    },
    {
      "cell_type": "code",
      "source": [
        "# this is a more resined version\n",
        "month=int(input('Enter a number from 1 to 12 representing a month (i.e., January=1): '))\n",
        "if month==1 or month==3 or month==5 or month==8 or month==10 or month==12:\n",
        "  print('31 days')\n",
        "elif month==2:\n",
        "  print('28 days')\n",
        "else:\n",
        "  print('30 days')"
      ],
      "metadata": {
        "colab": {
          "base_uri": "https://localhost:8080/"
        },
        "id": "dc4ZtZHtHveh",
        "outputId": "cf0660d6-4d6d-47f3-da87-6f6d0572cb52"
      },
      "execution_count": null,
      "outputs": [
        {
          "output_type": "stream",
          "name": "stdout",
          "text": [
            "Enter a number from 1 to 12 representing a month (i.e., January=1): 6\n",
            "30 days\n"
          ]
        }
      ]
    },
    {
      "cell_type": "markdown",
      "metadata": {
        "id": "yXmMimr4_DFi"
      },
      "source": [
        "###Task: collect parking fee\n",
        "\n",
        "A parking garage has following price policy\n",
        "\n",
        "\n",
        "1.   first half hour: 5\n",
        "2.   second half hour to 2 hours: 15\n",
        "3.   more than 2 hours: 5 per hour\n",
        "\n",
        "Ask the user to enter the hours of parking (it should be a float number, such as 1.6 as 1.6 hours), and calculate the parking fee.\n",
        "\n"
      ]
    },
    {
      "cell_type": "code",
      "metadata": {
        "colab": {
          "base_uri": "https://localhost:8080/"
        },
        "id": "Id2b3FgU_DFi",
        "outputId": "c4e57df1-8b91-4ce3-f8a4-b0e1d1e74a07"
      },
      "source": [
        "hours=float(input('Enter the hours of parking: '))\n",
        "if hours<=0.5:\n",
        "  fee=5\n",
        "  print('You have to pay:',fee,'USD')\n",
        "elif hours<=2:\n",
        "  fee=5+15\n",
        "  print('You have to pay:',fee,'USD')\n",
        "else:\n",
        "  fee=5+15+5*(hours-2)\n",
        "  print('You have to pay:',fee,'USD')"
      ],
      "execution_count": null,
      "outputs": [
        {
          "output_type": "stream",
          "name": "stdout",
          "text": [
            "Enter the hours of parking: 5.5\n",
            "You have to pay: 37.5 USD\n"
          ]
        }
      ]
    },
    {
      "cell_type": "markdown",
      "metadata": {
        "id": "EZF4_Pyi_DFi"
      },
      "source": [
        "###Task: What stage are you in?  \n",
        "\n",
        "Write a program that asks the user to enter a person’s age. The program should display a message indicating whether the person is an infant, a child, a teenager, an adult, or a senior citizen.\n",
        "\n",
        "Following are the guidelines:\n",
        "1.   If the person is 1 year old or less, he or she is an infant.\n",
        "1.   If the person is older than 1 year, but younger than 13 years, he or she is a child.\n",
        "1.   If the person is at least 13 years old, but less than 20 years old, he or she is a teenager.\n",
        "1.   If the person is at least 20 years old, but less than 65 years old, he or she is an adult.\n",
        "1.   Otherwise the person is a senior citizen."
      ]
    },
    {
      "cell_type": "code",
      "metadata": {
        "colab": {
          "base_uri": "https://localhost:8080/"
        },
        "id": "hnOgpBwB_DFi",
        "outputId": "40bf2f74-702a-48a2-9468-fb279684b2f8"
      },
      "source": [
        "age=int(input('Enter a person\\'s age: '))\n",
        "if age<=1:\n",
        "  print('The person is an infant.')\n",
        "elif age<13:\n",
        "  print('The person is a child.')\n",
        "elif age <20:\n",
        "  print('The person is a teenager.')\n",
        "elif age<65:\n",
        "  print('The person is an adult')\n",
        "else:\n",
        "  print('The person is a senior citizen')"
      ],
      "execution_count": null,
      "outputs": [
        {
          "output_type": "stream",
          "name": "stdout",
          "text": [
            "Enter a person's age: 25\n",
            "The person is an adult\n"
          ]
        }
      ]
    },
    {
      "cell_type": "code",
      "source": [
        "x = 3\n",
        "if x == 1:\n",
        "    print(\"x is one\")\n",
        "elif x == 2:\n",
        "    print(\"x is two\")\n",
        "elif x == 3:\n",
        "    print(\"x is three\")\n",
        "else:\n",
        "    print(\"x is something else\")"
      ],
      "metadata": {
        "colab": {
          "base_uri": "https://localhost:8080/"
        },
        "id": "7C6e2I-bKIe5",
        "outputId": "0d55e11a-6829-47e2-f7af-8b6dbadbb139"
      },
      "execution_count": null,
      "outputs": [
        {
          "output_type": "stream",
          "name": "stdout",
          "text": [
            "x is three\n"
          ]
        }
      ]
    },
    {
      "cell_type": "code",
      "source": [
        "x = 0\n",
        "if x < 1:\n",
        "    print(\"x less than one\")\n",
        "if x < 2:\n",
        "    print(\"x less than two\")\n",
        "if x < 3:\n",
        "    print(\"x less than three\")\n",
        "else:\n",
        "    print(\"x is at least 3\")\n"
      ],
      "metadata": {
        "id": "6fV2x7SaKNjt",
        "outputId": "0f9117e2-4f70-4718-a39e-287cee955621",
        "colab": {
          "base_uri": "https://localhost:8080/"
        }
      },
      "execution_count": null,
      "outputs": [
        {
          "output_type": "stream",
          "name": "stdout",
          "text": [
            "x less than one\n",
            "x less than two\n",
            "x less than three\n"
          ]
        }
      ]
    },
    {
      "cell_type": "code",
      "source": [],
      "metadata": {
        "id": "-QBDwdGdOkhY"
      },
      "execution_count": null,
      "outputs": []
    },
    {
      "cell_type": "markdown",
      "metadata": {
        "id": "wOir9R07OlIk"
      },
      "source": [
        "# Welcome to our third assignment!"
      ]
    },
    {
      "cell_type": "markdown",
      "metadata": {
        "id": "hTJNZQ7AOlIk"
      },
      "source": [
        "This assignment is about testing your understanding of flow control: branching.\n",
        "\n",
        "We are going to create some simple programs using these tools. Are you ready? Let's get started!"
      ]
    },
    {
      "cell_type": "markdown",
      "metadata": {
        "id": "zDIoYDn9OlIk"
      },
      "source": [
        "You will find some small tasks in sections below. You should use input() to get the user to enter the information and use print() to print the information on the screen. At this moment, we can assume users will follow instructions carefully - they will enter the valid inputs as required."
      ]
    },
    {
      "cell_type": "markdown",
      "metadata": {
        "id": "TNbXeCDFeAcJ"
      },
      "source": [
        "## What day is today?\n",
        "\n",
        "###Instruction: Write a program that asks the user for a number in the range of 1 through 7. The program should display the corresponding day of the week, where\n",
        "\n",
        "* 1    = Monday,\n",
        "* 2    = Tuesday,\n",
        "* 3    = Wednesday,\n",
        "* 4    = Thursday,\n",
        "* 5    = Friday,\n",
        "* 6    = Saturday, and\n",
        "* 7    = Sunday\n",
        "* all other value entered = ERROR"
      ]
    },
    {
      "cell_type": "code",
      "metadata": {
        "id": "x6IbZ6rFw76O",
        "colab": {
          "base_uri": "https://localhost:8080/"
        },
        "outputId": "5e1c5e89-0459-4aef-fab4-4777e32d2045"
      },
      "source": [
        "day=int(input('Enter a number between and and 7 to indicate the day: '))\n",
        "if day==1:\n",
        "  print('Monday')\n",
        "elif day==2:\n",
        "  print('Tuesday')\n",
        "elif day==3:\n",
        "  print('Wednesday')\n",
        "elif day==4:\n",
        "  print('Thursday')\n",
        "elif day==5:\n",
        "  print('Friday')\n",
        "elif day==6:\n",
        "  print('Saturday')\n",
        "elif day==7:\n",
        "  print('Sunday')\n",
        "else:\n",
        "  print('ERROR')"
      ],
      "execution_count": null,
      "outputs": [
        {
          "output_type": "stream",
          "name": "stdout",
          "text": [
            "Enter a number between and and 7 to indicate the day: 3\n",
            "Wednesday\n"
          ]
        }
      ]
    },
    {
      "cell_type": "markdown",
      "metadata": {
        "id": "fZfiqg5lxFKF"
      },
      "source": [
        "## Tax Calculator\n",
        "\n",
        "###Instruction: You are going to program a  simple tax calculator.\n",
        "\n",
        "step1: Ask the user to enter the gross income of year 2022.\n",
        "\n",
        "step2: Calculate the tax based on following formula:\n",
        "\n",
        "1.   Less than \\$100,000, one pays just 1%\n",
        "2.   More than \\$100,000 one pays 5%\n",
        "3.   More than \\$500,000 then one pays 5% tax on the first 500,000 and 2 cents for every dollar above 500,000\n",
        "\n",
        "step3: Print the tax amount on the screen."
      ]
    },
    {
      "cell_type": "code",
      "metadata": {
        "id": "2bODNGPSx1-m",
        "colab": {
          "base_uri": "https://localhost:8080/"
        },
        "outputId": "378d2f07-ec8d-44ef-994f-adaa009ff75f"
      },
      "source": [
        "income=float(input('Enter your gross income of year 2023: '))\n",
        "if income<=100000 and income>0:\n",
        "  tax=income*0.01\n",
        "  print('you pay', tax, 'USD')\n",
        "elif income>100000 and income<=500000:\n",
        "  tax=income*0.05\n",
        "  print('you pay',tax,'USD')\n",
        "else:\n",
        "  tax=500000*0.05+(income-500000)*0.02\n",
        "  print('you pay',tax,'USD')\n"
      ],
      "execution_count": null,
      "outputs": [
        {
          "output_type": "stream",
          "name": "stdout",
          "text": [
            "Enter your gross income of year 2023: 600000\n",
            "you pay 27000.0 USD\n"
          ]
        }
      ]
    },
    {
      "cell_type": "markdown",
      "metadata": {
        "id": "cZmW-HnwyHcI"
      },
      "source": [
        "## A Simple Calculator\n",
        "\n",
        "###Instruction: You are going to program a super simple Calcualtor.\n",
        "\n",
        "step1: Ask the user to enter the first number, store it in x\n",
        "\n",
        "step2: Ask the user to enter the second number, store it in y\n",
        "\n",
        "step3: Ask the user to enter the operator, store it in p\n",
        "\n",
        "step4: Calculate the result of x p y.\n",
        "\n",
        "For example, if the user entered 2, 3, and +, you should print 2.0 + 3.0 = 5.0 on the screen"
      ]
    },
    {
      "cell_type": "code",
      "metadata": {
        "id": "wk6FHvAvyr_G",
        "colab": {
          "base_uri": "https://localhost:8080/"
        },
        "outputId": "b2e64a86-ef5b-46ff-8ef8-7a37906f3310"
      },
      "source": [
        "x=float(input('enter the first number'))\n",
        "y=float(input('enter the second number'))\n",
        "p=input('enter an operator (+,-,*,/)')\n",
        "if p=='+':\n",
        "  res=x+y\n",
        "  print(res)\n",
        "elif p=='-':\n",
        "  res=x-y\n",
        "  print(res)\n",
        "elif p=='*':\n",
        "  res=x*y\n",
        "  print(res)\n",
        "elif p=='/':\n",
        "  res=x/y\n",
        "  print(res)\n",
        "else:\n",
        "  print(error)"
      ],
      "execution_count": null,
      "outputs": [
        {
          "output_type": "stream",
          "name": "stdout",
          "text": [
            "enter the first number2\n",
            "enter the second number3\n",
            "enter an operator/\n",
            "0.6666666666666666\n"
          ]
        }
      ]
    },
    {
      "cell_type": "markdown",
      "metadata": {
        "id": "auP4vt99EOJx"
      },
      "source": [
        "## Taxi Fare Calculator\n",
        "\n",
        "###Instruction: You are going to program a simple Calcualtor for a taxi.\n",
        "\n",
        "step1: Ask the driver to enter total miles, store it in m\n",
        "\n",
        "step2: Calculate the fare based on the formular\n",
        "\n",
        "*   if m < 10, fare is \\$5\n",
        "*   if 10 <= m < 20, fare is \\$5 plus \\$1 for every mile beyond 10.\n",
        "*   if m >= 20, fare is \\$5 plus \\$1.5 for every mile beyond 10\n",
        "\n",
        "step3: print the fare.\n"
      ]
    },
    {
      "cell_type": "code",
      "metadata": {
        "id": "3sEH96OkGAzR",
        "colab": {
          "base_uri": "https://localhost:8080/"
        },
        "outputId": "59ec3d11-fc3e-4158-af68-912426f2a7a3"
      },
      "source": [
        "m=float(input('Enter the total miles: '))\n",
        "if m<10:\n",
        "  fare=5\n",
        "  print(fare)\n",
        "elif m>=10 and m<20:\n",
        "  fare=5+(m-10)*1\n",
        "  print(fare)\n",
        "else:\n",
        "  fare=5+(m-10)*1.5\n",
        "  print(fare)"
      ],
      "execution_count": null,
      "outputs": [
        {
          "output_type": "stream",
          "name": "stdout",
          "text": [
            "Enter the total miles: 12\n",
            "7.0\n"
          ]
        }
      ]
    },
    {
      "cell_type": "markdown",
      "metadata": {
        "id": "ylesrgONGCbf"
      },
      "source": [
        "## Flash Shipping charges\n",
        "\n",
        "###Instruction: You are going to program a shipping charge calculator for a deliver company - Flash Shipping.\n",
        "\n",
        "The rate of delivery is as below\n",
        "\n",
        "| Weight of Package | Domestic Rate Per Pound | International Rate Per Pound |\n",
        "| --- | --- | --- |\n",
        "| 2 lbs or less | \\$1.5 | \\$5.0 |\n",
        "| More than 2 lbs but no more than 6 lbs | \\$2.5 | \\$7.0 |\n",
        "| Morethan 6 lbs but no more than 20 lbs | \\$3.5 | \\$10.0 |\n",
        "| More than 20 lbs | \\$5.0 | \\$15.0 |\n",
        "\n",
        "step1: Ask the user to enter the weight of the package, and the destination (domestic or international)\n",
        "\n",
        "step2: Calculate the shipping charge based on the rate\n",
        "\n",
        "step3: print the charge.\n"
      ]
    },
    {
      "cell_type": "code",
      "metadata": {
        "id": "PntyPGzNHiYw",
        "colab": {
          "base_uri": "https://localhost:8080/"
        },
        "outputId": "2c7387d1-0705-4865-a1d3-9a92ac453bd4"
      },
      "source": [
        "we=float(input('enter the weight of the package: '))\n",
        "de=input('enter the destination [domestic or international]: ')\n",
        "if we<=2:\n",
        "  if de=='domestic':\n",
        "    rate=we*1.5\n",
        "  elif de=='international':\n",
        "    rate=we*5\n",
        "elif we>2 and we<=6:\n",
        "  if de=='domestic':\n",
        "    rate=we*2.5\n",
        "  elif de=='international':\n",
        "    rate=we*7\n",
        "elif we>6 and we<20:\n",
        "  if de=='domestic':\n",
        "    rate=we*3.5\n",
        "  elif de=='international':\n",
        "    rate=we*10\n",
        "else:\n",
        "  if de=='domestic':\n",
        "    rate=we*5\n",
        "  elif de=='international':\n",
        "    rate=we*15\n",
        "print('The charge is:',rate,'USD')\n",
        "\n"
      ],
      "execution_count": null,
      "outputs": [
        {
          "output_type": "stream",
          "name": "stdout",
          "text": [
            "enter the weight of the package: 30\n",
            "enter the destination [domestic or international]: 450\n",
            "The charge is: 450.0 USD\n"
          ]
        }
      ]
    },
    {
      "cell_type": "code",
      "source": [
        "# Proposed solution from the Course material\n",
        "weight = float(input('Enter the weight of the package: '))\n",
        "destination = input('Is the destination domestic or international? (Enter domestic or international)')\n",
        "if destination == 'domestic':\n",
        " if weight <= 2:\n",
        "  charge = 1.5 * weight\n",
        " elif weight <= 6:\n",
        "  charge = 2.5 * weight\n",
        " elif weight <= 20:\n",
        "  charge = 3.5 * weight\n",
        " else:\n",
        "  charge = 5.0 * weight\n",
        "elif destination == 'international':\n",
        " if weight <= 2:\n",
        "  charge = 5.0 * weight\n",
        " elif weight <= 6:\n",
        "  charge = 7.0 * weight\n",
        " elif weight <= 20:\n",
        "  charge = 10.0 * weight\n",
        " else:\n",
        "  charge = 15.0 * weight\n",
        "print('The charge is:',charge)"
      ],
      "metadata": {
        "colab": {
          "base_uri": "https://localhost:8080/"
        },
        "id": "q9XadAeHYDjD",
        "outputId": "ab3cef55-b25d-46e1-d641-76dbf1446c09"
      },
      "execution_count": null,
      "outputs": [
        {
          "output_type": "stream",
          "name": "stdout",
          "text": [
            "Enter the weight of the package: 30\n",
            "Is the destination domestic or international? (Enter domestic or international)international\n",
            "The charge is: 450.0\n"
          ]
        }
      ]
    },
    {
      "cell_type": "markdown",
      "metadata": {
        "id": "7Ysdu7UJ_qf8"
      },
      "source": [
        "**Congratulations! You finished this Assignment and completed Module 3!**"
      ]
    }
  ]
}
