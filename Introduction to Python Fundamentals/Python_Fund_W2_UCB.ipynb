{
  "nbformat": 4,
  "nbformat_minor": 0,
  "metadata": {
    "colab": {
      "provenance": [],
      "authorship_tag": "ABX9TyNqsUxfsLEg4JwkZB7KWqNG",
      "include_colab_link": true
    },
    "kernelspec": {
      "name": "python3",
      "display_name": "Python 3"
    },
    "language_info": {
      "name": "python"
    }
  },
  "cells": [
    {
      "cell_type": "markdown",
      "metadata": {
        "id": "view-in-github",
        "colab_type": "text"
      },
      "source": [
        "<a href=\"https://colab.research.google.com/github/cysorianoc/Python_for_data_science/blob/main/Python_Fund_W2_UCB.ipynb\" target=\"_parent\"><img src=\"https://colab.research.google.com/assets/colab-badge.svg\" alt=\"Open In Colab\"/></a>"
      ]
    },
    {
      "cell_type": "markdown",
      "source": [
        "# Week 2: Variables and operations\n",
        "\n",
        "## Variables\n",
        "\n",
        "- A variable ia a reference of a data.\n",
        "- When you want to compute the data, you can use the variable instead.\n",
        "\n",
        "## Identifiers\n",
        "\n",
        "- Letters (A-Z, a-z), digits (0-9), and underscores (_).\n",
        "- Identifiers must begin with a letter or underscore. May not begin by digits.\n",
        "- Identfiers cannor have special characters.\n",
        "- Attention to the reserved keywords in Python.\n",
        "\n",
        "## Naming Conventoions\n",
        "- We name a variable with lower case letter.\n",
        "- you can link several words with underscore.\n",
        "- Use meaningful names so readers can understand.\n",
        "- average_income, start_location, first_name ...\n",
        "- Maybe you can use some capitalization to begin second words: lastName, startLocation."
      ],
      "metadata": {
        "id": "0Tfgk8yJlbvg"
      }
    },
    {
      "cell_type": "markdown",
      "source": [
        "## Assignment Operation\n",
        "- We use = to assign a value to a variable.\n",
        "- For example ``message=\"Hello, world!\"``.\n",
        "- ``print(message)`` will be the same as ``print(\"Hello, world!\")``"
      ],
      "metadata": {
        "id": "lw0OpmEuo9eF"
      }
    },
    {
      "cell_type": "code",
      "execution_count": null,
      "metadata": {
        "id": "bAavp4CElMvq"
      },
      "outputs": [],
      "source": [
        "message=\"Hello, world!\""
      ]
    },
    {
      "cell_type": "code",
      "source": [
        "print(message)"
      ],
      "metadata": {
        "colab": {
          "base_uri": "https://localhost:8080/"
        },
        "id": "XdvI6HS9pW6E",
        "outputId": "097a565b-356b-492b-b82f-529fb40ec26a"
      },
      "execution_count": null,
      "outputs": [
        {
          "output_type": "stream",
          "name": "stdout",
          "text": [
            "Hello, world!\n"
          ]
        }
      ]
    },
    {
      "cell_type": "code",
      "source": [
        "message*3"
      ],
      "metadata": {
        "colab": {
          "base_uri": "https://localhost:8080/",
          "height": 36
        },
        "id": "Cx8xuf1Tpybl",
        "outputId": "2dc6727f-a86c-43dc-b50a-70dfb6769e69"
      },
      "execution_count": null,
      "outputs": [
        {
          "output_type": "execute_result",
          "data": {
            "text/plain": [
              "'Hello, world!Hello, world!Hello, world!'"
            ],
            "application/vnd.google.colaboratory.intrinsic+json": {
              "type": "string"
            }
          },
          "metadata": {},
          "execution_count": 3
        }
      ]
    },
    {
      "cell_type": "markdown",
      "source": [
        "## Types of Variables\n",
        "\n",
        "- The type of a variable is determined by the current type of data the variable is referring.\n",
        "- String: is a sequence of characters. For string data type we wrap them in quotations.\n",
        "- Numeric types: ``ìnt``is a numerical without decimal points. ``float`` are numbers with decimal points.\n",
        "- Dynamic-type variables: means that variable that has been assigned to one type can be reassigned to another type. We can switch from ``int``, ``str`` or ``float``.\n",
        "- Variables can be transferred: a variable that refers to a value can be on the right side of assignment too. From str/float to int ``x=5``, then ``y=x`` so ``y`` refers to 5 too. If we change after the value of ``x`` ,``y`` remains unchanged.\n",
        "- Values can be converted; ``x=int('5')`` will refer to int 5. ``x=int(5.5)`` will refer to 5 (value after discarding the decimal point)."
      ],
      "metadata": {
        "id": "3kpKeyKOqLiS"
      }
    },
    {
      "cell_type": "code",
      "source": [
        "type(message)"
      ],
      "metadata": {
        "colab": {
          "base_uri": "https://localhost:8080/"
        },
        "id": "F_6bI3n335P8",
        "outputId": "e9ba35a7-1df9-437f-ead3-c3e75f35f694"
      },
      "execution_count": null,
      "outputs": [
        {
          "output_type": "execute_result",
          "data": {
            "text/plain": [
              "str"
            ]
          },
          "metadata": {},
          "execution_count": 4
        }
      ]
    },
    {
      "cell_type": "code",
      "source": [
        "type(\"Hello, world!\")"
      ],
      "metadata": {
        "colab": {
          "base_uri": "https://localhost:8080/"
        },
        "id": "9bFDemKt37Ig",
        "outputId": "639913b7-4175-45df-afb5-02cd23be15e2"
      },
      "execution_count": null,
      "outputs": [
        {
          "output_type": "execute_result",
          "data": {
            "text/plain": [
              "str"
            ]
          },
          "metadata": {},
          "execution_count": 5
        }
      ]
    },
    {
      "cell_type": "markdown",
      "metadata": {
        "id": "cnAUJprJdh9_"
      },
      "source": [
        "# Welcome to our Lab Practice!"
      ]
    },
    {
      "cell_type": "markdown",
      "metadata": {
        "id": "vVYcayGedmms"
      },
      "source": [
        "This lab is about variables, assignments, and their value and data types. Are you ready? Let's get started!"
      ]
    },
    {
      "cell_type": "markdown",
      "metadata": {
        "id": "JP8eGBVyeSQx"
      },
      "source": [
        "You will find some small tasks in sections below."
      ]
    },
    {
      "cell_type": "markdown",
      "metadata": {
        "id": "TNbXeCDFeAcJ"
      },
      "source": [
        "## Value assignment"
      ]
    },
    {
      "cell_type": "markdown",
      "metadata": {
        "id": "EZ42d1Sue0Zp"
      },
      "source": [
        "###Task: assign **x** with an int 5.\n",
        "\n",
        "Use print() and type() to check the value is correctly assigned, and the data type is correct. For example: print('x:', x, type(x))"
      ]
    },
    {
      "cell_type": "code",
      "metadata": {
        "id": "yDzNIHsSeu85",
        "colab": {
          "base_uri": "https://localhost:8080/"
        },
        "outputId": "586e0cd7-622c-43d9-a0b2-9efb39870857"
      },
      "source": [
        "x=int(5)\n",
        "print('x',x,type(x))\n"
      ],
      "execution_count": null,
      "outputs": [
        {
          "output_type": "stream",
          "name": "stdout",
          "text": [
            "x 5 <class 'int'>\n"
          ]
        }
      ]
    },
    {
      "cell_type": "markdown",
      "metadata": {
        "id": "u8WEYfEqIbWX"
      },
      "source": [
        "###Task: assign **int_x** with x.\n",
        "\n",
        "Use print() and type() to check the value is correctly assigned, and the data type is correct."
      ]
    },
    {
      "cell_type": "code",
      "metadata": {
        "id": "LKSmcHRRJUYY",
        "colab": {
          "base_uri": "https://localhost:8080/"
        },
        "outputId": "c354e6a1-7543-4b27-b102-f5fe44c1407b"
      },
      "source": [
        "int_x=x\n",
        "print('int_x', int_x, type(int_x))"
      ],
      "execution_count": null,
      "outputs": [
        {
          "output_type": "stream",
          "name": "stdout",
          "text": [
            "int_x 5 <class 'int'>\n"
          ]
        }
      ]
    },
    {
      "cell_type": "markdown",
      "metadata": {
        "id": "-__o8ovbfSEH"
      },
      "source": [
        "###Task: assign **x** with a float 5.0.\n",
        "\n",
        "Use print() and type() to check the value is correctly assigned, and the data type is correct."
      ]
    },
    {
      "cell_type": "code",
      "metadata": {
        "id": "hOpxhSKog18Y",
        "colab": {
          "base_uri": "https://localhost:8080/"
        },
        "outputId": "db10f5f3-b20c-411f-fe23-903e43b09197"
      },
      "source": [
        "x=float(5)\n",
        "print('x',x,type(x))"
      ],
      "execution_count": null,
      "outputs": [
        {
          "output_type": "stream",
          "name": "stdout",
          "text": [
            "x 5.0 <class 'float'>\n"
          ]
        }
      ]
    },
    {
      "cell_type": "markdown",
      "metadata": {
        "id": "uZYVZQIvIlPy"
      },
      "source": [
        "###Task: assign **float_x** with x.\n",
        "\n",
        "Use print() and type() to check the value is correctly assigned, and the data type is correct."
      ]
    },
    {
      "cell_type": "code",
      "metadata": {
        "id": "Y_3dcyvcQ2GI",
        "colab": {
          "base_uri": "https://localhost:8080/"
        },
        "outputId": "616fbe63-27f3-4e79-ad7f-4b98d80bdda1"
      },
      "source": [
        "float_x=x\n",
        "print('float_x',float_x,type(float_x))"
      ],
      "execution_count": null,
      "outputs": [
        {
          "output_type": "stream",
          "name": "stdout",
          "text": [
            "float_x 5.0 <class 'float'>\n"
          ]
        }
      ]
    },
    {
      "cell_type": "markdown",
      "metadata": {
        "id": "NpCNxK68gpME"
      },
      "source": [
        "###Task: assign **x** with a str '5'.\n",
        "\n",
        "Use print() and type() to check the value is correctly assigned, and the data type is correct."
      ]
    },
    {
      "cell_type": "code",
      "metadata": {
        "id": "txg-7uKfgKeW",
        "colab": {
          "base_uri": "https://localhost:8080/"
        },
        "outputId": "72f3ff75-72a7-49b3-a06b-90ddc645c61a"
      },
      "source": [
        "x=str(5)\n",
        "print('x',x,type(x))"
      ],
      "execution_count": null,
      "outputs": [
        {
          "output_type": "stream",
          "name": "stdout",
          "text": [
            "x 5 <class 'str'>\n"
          ]
        }
      ]
    },
    {
      "cell_type": "markdown",
      "metadata": {
        "id": "Viln-qF5Irq4"
      },
      "source": [
        "###Task: assign **str1_x** with x.\n",
        "\n",
        "Use print() and type() to check the value is correctly assigned, and the data type is correct."
      ]
    },
    {
      "cell_type": "code",
      "metadata": {
        "id": "EGFHzwI3QzqH",
        "colab": {
          "base_uri": "https://localhost:8080/"
        },
        "outputId": "0092a783-a473-4ecd-9fd2-02aea8c346c7"
      },
      "source": [
        "str1_x=x\n",
        "print('str1_x',str1_x,type(str1_x))"
      ],
      "execution_count": null,
      "outputs": [
        {
          "output_type": "stream",
          "name": "stdout",
          "text": [
            "str1_x 5 <class 'str'>\n"
          ]
        }
      ]
    },
    {
      "cell_type": "markdown",
      "metadata": {
        "id": "e0YP4pWzIQy0"
      },
      "source": [
        "###Task: assign **x** with a str '5.0'.\n",
        "\n",
        "Use print() and type() to check the value is correctly assigned, and the data type is correct."
      ]
    },
    {
      "cell_type": "code",
      "metadata": {
        "id": "i5oNpnSiIPtD",
        "colab": {
          "base_uri": "https://localhost:8080/"
        },
        "outputId": "f00def0b-e447-4833-93af-1d4f234599d9"
      },
      "source": [
        "x=str(5.0)\n",
        "print('x',x,type(x))"
      ],
      "execution_count": null,
      "outputs": [
        {
          "output_type": "stream",
          "name": "stdout",
          "text": [
            "x 5.0 <class 'str'>\n"
          ]
        }
      ]
    },
    {
      "cell_type": "markdown",
      "metadata": {
        "id": "9EwSZrKrIvat"
      },
      "source": [
        "###Task: assign **str2_x** with x.\n",
        "\n",
        "Use print() and type() to check the value is correctly assigned, and the data type is correct."
      ]
    },
    {
      "cell_type": "code",
      "metadata": {
        "id": "fobTAXmGJmV0"
      },
      "source": [
        "str2_x=x"
      ],
      "execution_count": null,
      "outputs": []
    },
    {
      "cell_type": "markdown",
      "metadata": {
        "id": "4xBE9LqXJpow"
      },
      "source": [
        "###Task: check all variables.\n",
        "\n",
        "Use print() and type() to check all the variables you created so far: **x, int_x, float_x, str1_x, str2_x** value and data types."
      ]
    },
    {
      "cell_type": "code",
      "metadata": {
        "id": "gDFtlm4lJopJ",
        "colab": {
          "base_uri": "https://localhost:8080/"
        },
        "outputId": "4b206bef-11e0-4f8e-b9c3-63035ecc01fc"
      },
      "source": [
        "print(x,type(x), int_x, type(int_x), float_x, type(float_x), str1_x,type(str1_x), str2_x,type(str2_x))"
      ],
      "execution_count": null,
      "outputs": [
        {
          "output_type": "stream",
          "name": "stdout",
          "text": [
            "5.0 <class 'str'> 5 <class 'int'> 5.0 <class 'float'> 5 <class 'str'> 5.0 <class 'str'>\n"
          ]
        }
      ]
    },
    {
      "cell_type": "markdown",
      "metadata": {
        "id": "D8pWdoN7d6Dy"
      },
      "source": [
        "## Value converting\n",
        "\n",
        "For the task below, convert data value from one type to another, assign it to x, and use print() and type() to check for correctness."
      ]
    },
    {
      "cell_type": "markdown",
      "metadata": {
        "id": "rXgbUIBRgQoG"
      },
      "source": [
        "###Task: convert a str '0' to int"
      ]
    },
    {
      "cell_type": "code",
      "metadata": {
        "id": "oIKwmW2mfe3d",
        "colab": {
          "base_uri": "https://localhost:8080/"
        },
        "outputId": "5fdd27f1-e2eb-4521-ddd0-a7a7d4d82bb4"
      },
      "source": [
        "x=int('0')\n",
        "print(x)\n",
        "type(x)"
      ],
      "execution_count": null,
      "outputs": [
        {
          "output_type": "stream",
          "name": "stdout",
          "text": [
            "0\n"
          ]
        },
        {
          "output_type": "execute_result",
          "data": {
            "text/plain": [
              "int"
            ]
          },
          "metadata": {},
          "execution_count": 30
        }
      ]
    },
    {
      "cell_type": "markdown",
      "metadata": {
        "id": "aUD7waGAM-au"
      },
      "source": [
        "###Task: convert a float 0.1 to int"
      ]
    },
    {
      "cell_type": "code",
      "metadata": {
        "id": "lHsYgPViNBre",
        "colab": {
          "base_uri": "https://localhost:8080/"
        },
        "outputId": "6728d046-c47f-482f-8c9c-c87a0555d570"
      },
      "source": [
        "x=int(0.1)\n",
        "print(x)\n",
        "type(x)"
      ],
      "execution_count": null,
      "outputs": [
        {
          "output_type": "stream",
          "name": "stdout",
          "text": [
            "0\n"
          ]
        },
        {
          "output_type": "execute_result",
          "data": {
            "text/plain": [
              "int"
            ]
          },
          "metadata": {},
          "execution_count": 31
        }
      ]
    },
    {
      "cell_type": "markdown",
      "metadata": {
        "id": "QPoCScdkheK3"
      },
      "source": [
        "###Task: convert a str '0' to float"
      ]
    },
    {
      "cell_type": "code",
      "metadata": {
        "id": "tsFowDAKhJCB",
        "colab": {
          "base_uri": "https://localhost:8080/"
        },
        "outputId": "f816326d-f720-49b9-a3af-8d64ea9c92b0"
      },
      "source": [
        "x=float('0')\n",
        "print(x)\n",
        "type(x)"
      ],
      "execution_count": null,
      "outputs": [
        {
          "output_type": "stream",
          "name": "stdout",
          "text": [
            "0.0\n"
          ]
        },
        {
          "output_type": "execute_result",
          "data": {
            "text/plain": [
              "float"
            ]
          },
          "metadata": {},
          "execution_count": 32
        }
      ]
    },
    {
      "cell_type": "markdown",
      "metadata": {
        "id": "TE6Df1WYhu10"
      },
      "source": [
        "###Task: convert an int 0 to float"
      ]
    },
    {
      "cell_type": "code",
      "metadata": {
        "id": "MSjQbhNXhJVV",
        "colab": {
          "base_uri": "https://localhost:8080/"
        },
        "outputId": "f90bd6c2-e011-40f8-d832-f9d57cecca4c"
      },
      "source": [
        "x=float(0)\n",
        "print(x)\n",
        "type(x)"
      ],
      "execution_count": null,
      "outputs": [
        {
          "output_type": "stream",
          "name": "stdout",
          "text": [
            "0.0\n"
          ]
        },
        {
          "output_type": "execute_result",
          "data": {
            "text/plain": [
              "float"
            ]
          },
          "metadata": {},
          "execution_count": 34
        }
      ]
    },
    {
      "cell_type": "markdown",
      "metadata": {
        "id": "f-zusksziv_N"
      },
      "source": [
        "###Task: convert an int 0 to str"
      ]
    },
    {
      "cell_type": "code",
      "metadata": {
        "id": "rVF4T_pwhKMM",
        "colab": {
          "base_uri": "https://localhost:8080/",
          "height": 72
        },
        "outputId": "c1aa603e-96fa-4687-ffcf-d1d74cec09bd"
      },
      "source": [
        "x=str(0)\n",
        "print(x)\n",
        "print(type(x))\n",
        "x*5 # to see what happens when operating a str"
      ],
      "execution_count": null,
      "outputs": [
        {
          "output_type": "stream",
          "name": "stdout",
          "text": [
            "0\n",
            "<class 'str'>\n"
          ]
        },
        {
          "output_type": "execute_result",
          "data": {
            "text/plain": [
              "'00000'"
            ],
            "application/vnd.google.colaboratory.intrinsic+json": {
              "type": "string"
            }
          },
          "metadata": {},
          "execution_count": 38
        }
      ]
    },
    {
      "cell_type": "markdown",
      "metadata": {
        "id": "yls-7KE6kA7o"
      },
      "source": [
        "###Task: convert a float 0.1 to str"
      ]
    },
    {
      "cell_type": "code",
      "metadata": {
        "id": "ZZ1XEd29kAIR",
        "colab": {
          "base_uri": "https://localhost:8080/",
          "height": 72
        },
        "outputId": "81c57bd7-fc86-4e1a-fdf4-eac9cff2c08e"
      },
      "source": [
        "x=str(0.1)\n",
        "print(x)\n",
        "print(type(x))\n",
        "x*10"
      ],
      "execution_count": null,
      "outputs": [
        {
          "output_type": "stream",
          "name": "stdout",
          "text": [
            "0.1\n",
            "<class 'str'>\n"
          ]
        },
        {
          "output_type": "execute_result",
          "data": {
            "text/plain": [
              "'0.10.10.10.10.10.10.10.10.10.1'"
            ],
            "application/vnd.google.colaboratory.intrinsic+json": {
              "type": "string"
            }
          },
          "metadata": {},
          "execution_count": 39
        }
      ]
    },
    {
      "cell_type": "markdown",
      "source": [
        "## Arithmetic Operations\n",
        "\n",
        "- ``+`` Addition\n",
        "- ``-`` substraction\n",
        "- ``*`` multiplication\n",
        "- ``/`` Division that gives a float type\n",
        "- ``//`` Integer division that returns an integer\n",
        "- ``%`` remainder: divides one number by other and gives the remainder.\n",
        "- ``**`` Exponent: raises a number to a power.\n",
        "\n",
        "### Precedence\n",
        "\n",
        "- Highest ()\n",
        "- Second **\n",
        "- Third: *,/,//,%\n",
        "- Lowest: +,-\n",
        "\n",
        "### input()\n",
        "- We used input() to get input from the user.\n",
        "- if we uses input() alone we will get always a str.\n",
        "- we can convert the value from input() with ``int(input('Enter something'))`` or ``float(input('Enter something'))``.\n",
        "- We can use multiple inputs at the same time (see code below using a comma as separator)\n",
        "\n"
      ],
      "metadata": {
        "id": "s31O9dxRDTJn"
      }
    },
    {
      "cell_type": "code",
      "source": [
        "type(input('Enter your age:'))"
      ],
      "metadata": {
        "colab": {
          "base_uri": "https://localhost:8080/"
        },
        "id": "3jDFLvSnHniv",
        "outputId": "2d94d383-f478-415c-a66a-17a737157289"
      },
      "execution_count": null,
      "outputs": [
        {
          "name": "stdout",
          "output_type": "stream",
          "text": [
            "Enter your age:35\n"
          ]
        },
        {
          "output_type": "execute_result",
          "data": {
            "text/plain": [
              "str"
            ]
          },
          "metadata": {},
          "execution_count": 42
        }
      ]
    },
    {
      "cell_type": "code",
      "source": [
        "type(int(input('Enter your age')))"
      ],
      "metadata": {
        "colab": {
          "base_uri": "https://localhost:8080/"
        },
        "id": "scXGjrqHHzq7",
        "outputId": "4840abd3-577a-4296-edd1-751d41e51800"
      },
      "execution_count": null,
      "outputs": [
        {
          "name": "stdout",
          "output_type": "stream",
          "text": [
            "Enter your age35\n"
          ]
        },
        {
          "output_type": "execute_result",
          "data": {
            "text/plain": [
              "int"
            ]
          },
          "metadata": {},
          "execution_count": 43
        }
      ]
    },
    {
      "cell_type": "code",
      "source": [
        "first_name,last_name=input('enter your first name and last name, sepparate them by a comma: ').split(',')\n",
        "print(first_name)\n",
        "print(last_name)"
      ],
      "metadata": {
        "colab": {
          "base_uri": "https://localhost:8080/"
        },
        "id": "5z76ZCnTJlpi",
        "outputId": "2060f23f-a455-4cdc-91f0-3d380777b028"
      },
      "execution_count": null,
      "outputs": [
        {
          "output_type": "stream",
          "name": "stdout",
          "text": [
            "enter your first name and last name, sepparate them by a comma: cristian,soriano\n",
            "cristian\n",
            "soriano\n"
          ]
        }
      ]
    },
    {
      "cell_type": "code",
      "source": [
        "4+7*3"
      ],
      "metadata": {
        "colab": {
          "base_uri": "https://localhost:8080/"
        },
        "id": "Wc1cVPFJvBLa",
        "outputId": "3c4a499a-014d-4f46-f12a-aeabaf976373"
      },
      "execution_count": null,
      "outputs": [
        {
          "output_type": "execute_result",
          "data": {
            "text/plain": [
              "25"
            ]
          },
          "metadata": {},
          "execution_count": 1
        }
      ]
    },
    {
      "cell_type": "code",
      "source": [
        "(4+7)*3"
      ],
      "metadata": {
        "colab": {
          "base_uri": "https://localhost:8080/"
        },
        "id": "L7n768LAvDNq",
        "outputId": "e5f335bc-7616-44ac-aa44-43604a24ee54"
      },
      "execution_count": null,
      "outputs": [
        {
          "output_type": "execute_result",
          "data": {
            "text/plain": [
              "33"
            ]
          },
          "metadata": {},
          "execution_count": 2
        }
      ]
    },
    {
      "cell_type": "code",
      "source": [
        "12/3*4"
      ],
      "metadata": {
        "colab": {
          "base_uri": "https://localhost:8080/"
        },
        "id": "Ypn0spFUvL9C",
        "outputId": "f562daa5-4290-4f29-862f-543551afda42"
      },
      "execution_count": null,
      "outputs": [
        {
          "output_type": "execute_result",
          "data": {
            "text/plain": [
              "16.0"
            ]
          },
          "metadata": {},
          "execution_count": 3
        }
      ]
    },
    {
      "cell_type": "code",
      "source": [
        "2**3*2"
      ],
      "metadata": {
        "colab": {
          "base_uri": "https://localhost:8080/"
        },
        "id": "XJg24QgYvOBi",
        "outputId": "51c6c701-2e29-4f27-8cfa-633c1dcb3427"
      },
      "execution_count": null,
      "outputs": [
        {
          "output_type": "execute_result",
          "data": {
            "text/plain": [
              "16"
            ]
          },
          "metadata": {},
          "execution_count": 4
        }
      ]
    },
    {
      "cell_type": "markdown",
      "metadata": {
        "id": "PhDWx8PSvyp_"
      },
      "source": [
        "# Welcome to our Lab Practice!"
      ]
    },
    {
      "cell_type": "markdown",
      "metadata": {
        "id": "E6KNFCVTvyqS"
      },
      "source": [
        "This lab is about arithmetic operations, more assignemnt operations from input(). Are you ready? Let's get started!"
      ]
    },
    {
      "cell_type": "markdown",
      "metadata": {
        "id": "JWXxpOEivyqS"
      },
      "source": [
        "You will find some small tasks in sections below."
      ]
    },
    {
      "cell_type": "markdown",
      "metadata": {
        "id": "Bf5aYEs8vyqS"
      },
      "source": [
        "## Arithmetic Operation\n",
        "\n",
        "In this section, you are going to code and run arithmetic operations of two numbers.\n",
        "\n",
        "Hint: to print out the equation, we can use the print() to print multiple values out.\n",
        "\n",
        "For example, print(x, 'operator', y, '=', x operator y) for an operator."
      ]
    },
    {
      "cell_type": "markdown",
      "metadata": {
        "id": "hhAeaPrjTLRT"
      },
      "source": [
        "###Task: Get some computation.\n",
        "\n",
        "1.   Assign x with 2, y with 3.\n",
        "2.   print out the equation and result of\n",
        "  1.   x + y\n",
        "  2.   x - y\n",
        "  3.   x * y\n",
        "  4.   x / y\n",
        "  5.   x // y\n",
        "  6.   x ** y\n",
        "  7.   x % y\n",
        "\n",
        "\n",
        "\n"
      ]
    },
    {
      "cell_type": "code",
      "metadata": {
        "id": "v4jLx-_gTIFA",
        "colab": {
          "base_uri": "https://localhost:8080/"
        },
        "outputId": "64434b66-edd8-4481-e5fb-7e5633edae57"
      },
      "source": [
        "x=2\n",
        "y=3\n",
        "print(x,'+',y,'=',x+y)\n",
        "print(x,'-',y,'=',x-y)\n",
        "print(x,'*',y,'=',x*y)\n",
        "print(x,'/',y,'=',x/y)\n",
        "print(x,'//',y,'=',x//y)\n",
        "print(x,'**',y,'=',x**y)\n",
        "print(x,'%',y,'=',x%y)"
      ],
      "execution_count": null,
      "outputs": [
        {
          "output_type": "stream",
          "name": "stdout",
          "text": [
            "2 + 3 = 5\n",
            "2 - 3 = -1\n",
            "2 * 3 = 6\n",
            "2 / 3 = 0.6666666666666666\n",
            "2 // 3 = 0\n",
            "2 ** 3 = 8\n",
            "2 % 3 = 2\n"
          ]
        }
      ]
    },
    {
      "cell_type": "markdown",
      "metadata": {
        "id": "TEHPJ_CpUuOv"
      },
      "source": [
        "###Task: Get some other computation.\n",
        "\n",
        "1.   Assign x with a value you like, y with another value you like.\n",
        "2.   print out the equation and result of\n",
        "  1.   x + y\n",
        "  2.   x - y\n",
        "  3.   x * y\n",
        "  4.   x / y\n",
        "  5.   x // y\n",
        "  6.   x ** y\n",
        "  7.   x % y\n",
        "3.   Are there some value that will crash your program? Why?\n",
        "\n",
        "R: with zero, the result does not converge for the division."
      ]
    },
    {
      "cell_type": "code",
      "metadata": {
        "id": "e4UI_UJpU-7q",
        "colab": {
          "base_uri": "https://localhost:8080/",
          "height": 309
        },
        "outputId": "6e55aaf5-801c-4bbd-c7f5-248d306568f5"
      },
      "source": [
        "x=5\n",
        "y=0 # assigned zero to find the value that crashes the program.\n",
        "print(x,'+',y,'=',x+y)\n",
        "print(x,'-',y,'=',x-y)\n",
        "print(x,'*',y,'=',x*y)\n",
        "print(x,'/',y,'=',x/y)\n",
        "print(x,'//',y,'=',x//y)\n",
        "print(x,'**',y,'=',x**y)\n",
        "print(x,'%',y,'=',x%y)"
      ],
      "execution_count": null,
      "outputs": [
        {
          "output_type": "stream",
          "name": "stdout",
          "text": [
            "5 + 0 = 5\n",
            "5 - 0 = 5\n",
            "5 * 0 = 0\n"
          ]
        },
        {
          "output_type": "error",
          "ename": "ZeroDivisionError",
          "evalue": "division by zero",
          "traceback": [
            "\u001b[0;31m---------------------------------------------------------------------------\u001b[0m",
            "\u001b[0;31mZeroDivisionError\u001b[0m                         Traceback (most recent call last)",
            "\u001b[0;32m<ipython-input-7-8627436e35ec>\u001b[0m in \u001b[0;36m<cell line: 6>\u001b[0;34m()\u001b[0m\n\u001b[1;32m      4\u001b[0m \u001b[0mprint\u001b[0m\u001b[0;34m(\u001b[0m\u001b[0mx\u001b[0m\u001b[0;34m,\u001b[0m\u001b[0;34m'-'\u001b[0m\u001b[0;34m,\u001b[0m\u001b[0my\u001b[0m\u001b[0;34m,\u001b[0m\u001b[0;34m'='\u001b[0m\u001b[0;34m,\u001b[0m\u001b[0mx\u001b[0m\u001b[0;34m-\u001b[0m\u001b[0my\u001b[0m\u001b[0;34m)\u001b[0m\u001b[0;34m\u001b[0m\u001b[0;34m\u001b[0m\u001b[0m\n\u001b[1;32m      5\u001b[0m \u001b[0mprint\u001b[0m\u001b[0;34m(\u001b[0m\u001b[0mx\u001b[0m\u001b[0;34m,\u001b[0m\u001b[0;34m'*'\u001b[0m\u001b[0;34m,\u001b[0m\u001b[0my\u001b[0m\u001b[0;34m,\u001b[0m\u001b[0;34m'='\u001b[0m\u001b[0;34m,\u001b[0m\u001b[0mx\u001b[0m\u001b[0;34m*\u001b[0m\u001b[0my\u001b[0m\u001b[0;34m)\u001b[0m\u001b[0;34m\u001b[0m\u001b[0;34m\u001b[0m\u001b[0m\n\u001b[0;32m----> 6\u001b[0;31m \u001b[0mprint\u001b[0m\u001b[0;34m(\u001b[0m\u001b[0mx\u001b[0m\u001b[0;34m,\u001b[0m\u001b[0;34m'/'\u001b[0m\u001b[0;34m,\u001b[0m\u001b[0my\u001b[0m\u001b[0;34m,\u001b[0m\u001b[0;34m'='\u001b[0m\u001b[0;34m,\u001b[0m\u001b[0mx\u001b[0m\u001b[0;34m/\u001b[0m\u001b[0my\u001b[0m\u001b[0;34m)\u001b[0m\u001b[0;34m\u001b[0m\u001b[0;34m\u001b[0m\u001b[0m\n\u001b[0m\u001b[1;32m      7\u001b[0m \u001b[0mprint\u001b[0m\u001b[0;34m(\u001b[0m\u001b[0mx\u001b[0m\u001b[0;34m,\u001b[0m\u001b[0;34m'//'\u001b[0m\u001b[0;34m,\u001b[0m\u001b[0my\u001b[0m\u001b[0;34m,\u001b[0m\u001b[0;34m'='\u001b[0m\u001b[0;34m,\u001b[0m\u001b[0mx\u001b[0m\u001b[0;34m//\u001b[0m\u001b[0my\u001b[0m\u001b[0;34m)\u001b[0m\u001b[0;34m\u001b[0m\u001b[0;34m\u001b[0m\u001b[0m\n\u001b[1;32m      8\u001b[0m \u001b[0mprint\u001b[0m\u001b[0;34m(\u001b[0m\u001b[0mx\u001b[0m\u001b[0;34m,\u001b[0m\u001b[0;34m'**'\u001b[0m\u001b[0;34m,\u001b[0m\u001b[0my\u001b[0m\u001b[0;34m,\u001b[0m\u001b[0;34m'='\u001b[0m\u001b[0;34m,\u001b[0m\u001b[0mx\u001b[0m\u001b[0;34m**\u001b[0m\u001b[0my\u001b[0m\u001b[0;34m)\u001b[0m\u001b[0;34m\u001b[0m\u001b[0;34m\u001b[0m\u001b[0m\n",
            "\u001b[0;31mZeroDivisionError\u001b[0m: division by zero"
          ]
        }
      ]
    },
    {
      "cell_type": "markdown",
      "metadata": {
        "id": "rp2VujTvvyqT"
      },
      "source": [
        "## Get Inputs from Users"
      ]
    },
    {
      "cell_type": "markdown",
      "metadata": {
        "id": "IFsilci2vyqT"
      },
      "source": [
        "###Task: Help the User\n",
        "\n",
        "1.   Ask the user to enter an integer, convert and assign it to x;\n",
        "2.   Ask the user to enter another integer, convert and assign it to y;\n",
        "3.   print out the equation and result of\n",
        "  1.   x + y\n",
        "  2.   x - y\n",
        "  3.   x * y\n",
        "  4.   x / y\n",
        "  5.   x // y\n",
        "  6.   x ** y\n",
        "  7.   x % y\n",
        "3.   Are there some value that will crash your program? Why?\n"
      ]
    },
    {
      "cell_type": "code",
      "metadata": {
        "colab": {
          "base_uri": "https://localhost:8080/"
        },
        "id": "8ysPzS-yvyqT",
        "outputId": "51b39ef4-4b27-4c6e-dbb9-0af025b3319c"
      },
      "source": [
        "x=int(input('Provide an integer value for x: '))\n",
        "y=int(input('Provide a integer value for y: '))\n",
        "print(x,'+',y,'=',x+y)\n",
        "print(x,'-',y,'=',x-y)\n",
        "print(x,'*',y,'=',x*y)\n",
        "print(x,'/',y,'=',x/y)\n",
        "print(x,'//',y,'=',x//y)\n",
        "print(x,'**',y,'=',x**y)\n",
        "print(x,'%',y,'=',x%y)"
      ],
      "execution_count": null,
      "outputs": [
        {
          "output_type": "stream",
          "name": "stdout",
          "text": [
            "Provide a value for x: 5\n",
            "Provide a value for y: 5\n",
            "5 + 5 = 10\n",
            "5 - 5 = 0\n",
            "5 * 5 = 25\n",
            "5 / 5 = 1.0\n",
            "5 // 5 = 1\n",
            "5 ** 5 = 3125\n",
            "5 % 5 = 0\n"
          ]
        }
      ]
    },
    {
      "cell_type": "markdown",
      "source": [
        "## Relational, Boolean Data and Logical Operations\n",
        "\n",
        "We want to do some comparisons. Relationships between values.\n",
        "\n",
        "### Relational operations\n",
        "- Very often we need to compare two values\n",
        "    - So we use relational operations or Boolean expressions.\n",
        "\n",
        "| Expression | Meaning                                                   |\n",
        "|------------|-----------------------------------------------------------|\n",
        "| $x>y$        | Is x greater than y ?                                     |\n",
        "| $x<y$        | Is x less than y ?                                        |\n",
        "| $x>=y$       | Is x greater than or equal to y?                          |\n",
        "| $x<=y$       | Is x less than or equal to y?                             |\n",
        "| $x==y$       | Is x equal to y ? (Attention as we do not assign a value) |\n",
        "| $x!=y$       | Is x not equal to y?                                      |\n",
        "\n",
        "\n",
        "### Boolean type\n",
        " - The result of a relational operation will be a boolean type: bool.\n",
        " - bool is a predefined data type in Python.\n",
        " - Only two values *True*, *False*.\n",
        "\n",
        "### Logical Operations\n",
        " - Boolean tyé can be computed by Logical Operations.\n",
        " - *and*, *or*, *not*.\n",
        " - *and* operator and *or* operator are binary operators, they need to connect two boolean expressions.\n",
        " - *not* operator is a unary operator that reverses the value.\n",
        " - *Truth table* shows the result of logical operations.  \n",
        "\n",
        " ### The **and** Operator\n",
        " - Takes two boolean expressions as operands.\n",
        " - Creates compound Boolean expression that is true only when both expressions are true.\n",
        " - Truth table:\n",
        "\n",
        "| Expression      | Value of and operation |\n",
        "|-----------------|------------------------|\n",
        "| False and False | False                  |\n",
        "| False and True  | False                  |\n",
        "| True and False  | False                  |\n",
        "| True and True   | True                   |\n",
        "\n",
        "### The **or** Operator\n",
        " - Takes two Boolean expressions as operands.\n",
        " - Creates compound Boolean expressions that is true either of the sub expressions is true.\n",
        " - Truth table:\n",
        "\n",
        "| Expression      | Value of and operation |\n",
        "|-----------------|------------------------|\n",
        "| False or False  | False                  |\n",
        "| False or True   | True                   |\n",
        "| True or False   | True                   |\n",
        "| True or True    | True                   |\n",
        "\n",
        "### Short-Circuit Evaluation\n",
        " - To decide the value of a compound Boolean expression after evaluating only one sub expression.\n",
        " - For *or* operator: if left operand is True, compound expression is true. Otherwise, evalate the right operand.\n",
        " - For *and* operator: if left operand is False, compound expression is false. Otherwise, evaluate right operand.\n",
        "\n",
        "### The *not* Operator\n",
        "\n",
        " - Takes one Boolean expression as operand and reverses its logical value.\n",
        " - Truth table:\n",
        "\n",
        "| Expression      | Value of and operation |\n",
        "|-----------------|------------------------|\n",
        "|  not False      | True                   |\n",
        "|  not True       | False                  |\n",
        "\n"
      ],
      "metadata": {
        "id": "zKROGv2syJaI"
      }
    },
    {
      "cell_type": "code",
      "source": [
        "# Some exercises\n",
        "a = 7\n",
        "b = 3\n",
        "c = 5\n",
        "print(a > b and a > c)\n"
      ],
      "metadata": {
        "colab": {
          "base_uri": "https://localhost:8080/"
        },
        "id": "pqJVsIV36hMl",
        "outputId": "c5e9d497-9b40-47f3-c610-c5c68126fd0b"
      },
      "execution_count": null,
      "outputs": [
        {
          "output_type": "stream",
          "name": "stdout",
          "text": [
            "True\n"
          ]
        }
      ]
    },
    {
      "cell_type": "code",
      "source": [
        "a = 5\n",
        "b = 7\n",
        "c = 3\n",
        "print(a < b and a > c)"
      ],
      "metadata": {
        "colab": {
          "base_uri": "https://localhost:8080/"
        },
        "id": "F43_ppTc6pyh",
        "outputId": "b6a867f5-e168-43c5-b4aa-a9ab154f3697"
      },
      "execution_count": null,
      "outputs": [
        {
          "output_type": "stream",
          "name": "stdout",
          "text": [
            "True\n"
          ]
        }
      ]
    },
    {
      "cell_type": "code",
      "source": [
        "a = 2\n",
        "b = 5\n",
        "c = 7\n",
        "print(a < b or c < a)"
      ],
      "metadata": {
        "colab": {
          "base_uri": "https://localhost:8080/"
        },
        "id": "M47AATo36uk5",
        "outputId": "131639ef-b1ee-4572-d683-9860db3c7d7f"
      },
      "execution_count": null,
      "outputs": [
        {
          "output_type": "stream",
          "name": "stdout",
          "text": [
            "True\n"
          ]
        }
      ]
    },
    {
      "cell_type": "code",
      "source": [
        "x = 5\n",
        "y = 15\n",
        "z = x > 3 and y < 12\n",
        "print(z)"
      ],
      "metadata": {
        "colab": {
          "base_uri": "https://localhost:8080/"
        },
        "id": "9CXxA-gK63Mc",
        "outputId": "14fa801d-7a1f-48aa-d4b2-ff57c6c3e728"
      },
      "execution_count": null,
      "outputs": [
        {
          "output_type": "stream",
          "name": "stdout",
          "text": [
            "False\n"
          ]
        }
      ]
    },
    {
      "cell_type": "markdown",
      "metadata": {
        "id": "tS3KwvjM8tXR"
      },
      "source": [
        "# Welcome to our Lab Practice!"
      ]
    },
    {
      "cell_type": "markdown",
      "metadata": {
        "id": "caAj_84o8tXR"
      },
      "source": [
        "\n",
        "This lab is about logical and relational operations. Are you ready? Let's get started!"
      ]
    },
    {
      "cell_type": "markdown",
      "metadata": {
        "id": "tzX5S1368tXR"
      },
      "source": [
        "You will find some small tasks in sections below."
      ]
    },
    {
      "cell_type": "markdown",
      "metadata": {
        "id": "Sw0A_gTl8tXR"
      },
      "source": [
        "## Relational Operation\n",
        "\n",
        "In this section, you are going to code and run relational operations of two numbers.\n",
        "\n",
        "Hint: to print out the comparison, we can use the print() to print multiple values out.\n",
        "\n",
        "For example, `print(x, 'operator', y, 'is', x operator y)` for an operator."
      ]
    },
    {
      "cell_type": "markdown",
      "metadata": {
        "id": "0K0OK9G88tXR"
      },
      "source": [
        "###Task: Get some comparisons.\n",
        "\n",
        "1.   Assign x with 2, y with 3.\n",
        "2.   print out the comparison and result of\n",
        "  1.   x > y\n",
        "  2.   x >= y\n",
        "  3.   x == y\n",
        "  4.   x <= y\n",
        "  5.   x < y\n",
        "  6.   x != y\n",
        "\n",
        "\n",
        "\n"
      ]
    },
    {
      "cell_type": "code",
      "metadata": {
        "colab": {
          "base_uri": "https://localhost:8080/"
        },
        "id": "QaaiBq7q8tXR",
        "outputId": "ee469ee5-5955-49dd-821a-567044f2018e"
      },
      "source": [
        "x=2\n",
        "y=3\n",
        "print(x,'>', y, 'is', x>y)\n",
        "print(x,'>=', y, 'is', x>=y)\n",
        "print(x,'==', y, 'is', x==y)\n",
        "print(x,'<=', y, 'is', x<=y)\n",
        "print(x,'<', y, 'is', x<y)\n",
        "print(x,'!=', y, 'is', x!=y)"
      ],
      "execution_count": null,
      "outputs": [
        {
          "output_type": "stream",
          "name": "stdout",
          "text": [
            "2 > 3 is False\n",
            "2 >= 3 is False\n",
            "2 == 3 is False\n",
            "2 <= 3 is True\n",
            "2 < 3 is True\n",
            "2 != 3 is True\n"
          ]
        }
      ]
    },
    {
      "cell_type": "markdown",
      "metadata": {
        "id": "wjEZg4Tj8tXR"
      },
      "source": [
        "###Task: More comparisons\n",
        "\n",
        "1.   Ask the user to enter an integer, convert and assign it to x;\n",
        "2.   Ask the user to enter another integer, convert and assign it to y;\n",
        "3.   print out the comparison and result of\n",
        "  1.   x > y\n",
        "  2.   x >= y\n",
        "  3.   x == y\n",
        "  4.   x <= y\n",
        "  5.   x < y\n",
        "  6.   x != y"
      ]
    },
    {
      "cell_type": "code",
      "metadata": {
        "colab": {
          "base_uri": "https://localhost:8080/"
        },
        "id": "_VNi401J8tXS",
        "outputId": "e8055d33-f9d8-4711-f34a-995a51b5f45a"
      },
      "source": [
        "x=(int(input('Provide an integer value for x: ')))\n",
        "y=(int(input('Provide an integer value for y: ')))\n",
        "print(x,'>', y, 'is', x>y)\n",
        "print(x,'>=', y, 'is', x>=y)\n",
        "print(x,'==', y, 'is', x==y)\n",
        "print(x,'<=', y, 'is', x<=y)\n",
        "print(x,'<', y, 'is', x<y)\n",
        "print(x,'!=', y, 'is', x!=y)"
      ],
      "execution_count": null,
      "outputs": [
        {
          "output_type": "stream",
          "name": "stdout",
          "text": [
            "Provide an integer value for x: 100\n",
            "Provide an integer value for y: 90\n",
            "100 > 90 is True\n",
            "100 >= 90 is True\n",
            "100 == 90 is False\n",
            "100 <= 90 is False\n",
            "100 < 90 is False\n",
            "100 != 90 is True\n"
          ]
        }
      ]
    },
    {
      "cell_type": "markdown",
      "metadata": {
        "id": "waLUTqVw8tXS"
      },
      "source": [
        "## Logical Operation\n",
        "\n",
        "In this section, you are going to code and run logical operations of two numbers.\n",
        "\n",
        "Hint: to print out the equation, we can use the print() to print multiple values out.\n",
        "\n",
        "For example, `print(x, 'operator', y, 'is', x operator y)` for an operator."
      ]
    },
    {
      "cell_type": "markdown",
      "metadata": {
        "id": "xDZeMhFteYjE"
      },
      "source": [
        "###Task: Get some computation.\n",
        "\n",
        "1.   Assign x with True, y with False.\n",
        "2.   print out the computation and result of\n",
        "  1.   x and x\n",
        "  2.   x and y\n",
        "  3.   y and x\n",
        "  4.   y and y\n",
        "  5.   x or x\n",
        "  6.   x or y\n",
        "  7.   y or x\n",
        "  8.   y or y\n",
        "  9.   not x\n",
        "  10.   not y\n",
        "\n",
        "\n",
        "\n"
      ]
    },
    {
      "cell_type": "code",
      "metadata": {
        "colab": {
          "base_uri": "https://localhost:8080/"
        },
        "id": "goldK5Sq8tXS",
        "outputId": "e0bf69e9-00ac-4eaf-e3d3-13faab2336a3"
      },
      "source": [
        "x=True\n",
        "y=False\n",
        "print(x,'and',y,'is',x and y)\n",
        "print(y,'and',x,'is',y and x)\n",
        "print(y,'and',y,'is',y and y)\n",
        "print(x,'or',x,'is',x or x)\n",
        "print(x,'or',y,'is',x or y)\n",
        "print(y,'or',x,'is',y or x)\n",
        "print(y,'or',y,'is',y or y)\n",
        "print('not', x,'is',not x)"
      ],
      "execution_count": null,
      "outputs": [
        {
          "output_type": "stream",
          "name": "stdout",
          "text": [
            "True and False is False\n",
            "False and True is False\n",
            "False and False is False\n",
            "True or True is True\n",
            "True or False is True\n",
            "False or True is True\n",
            "False or False is False\n",
            "not True is False\n"
          ]
        }
      ]
    },
    {
      "cell_type": "code",
      "source": [
        "not False"
      ],
      "metadata": {
        "colab": {
          "base_uri": "https://localhost:8080/"
        },
        "id": "0c5h8LCWE9oG",
        "outputId": "3c1bd3df-ffa3-438a-995b-a9abf3b3807c"
      },
      "execution_count": null,
      "outputs": [
        {
          "output_type": "execute_result",
          "data": {
            "text/plain": [
              "True"
            ]
          },
          "metadata": {},
          "execution_count": 22
        }
      ]
    },
    {
      "cell_type": "markdown",
      "source": [
        "# Module 2 Assignment"
      ],
      "metadata": {
        "id": "2sjizgg-GfmQ"
      }
    },
    {
      "cell_type": "markdown",
      "metadata": {
        "id": "F8RTGurjHP2c"
      },
      "source": [
        "# Welcome to our second assignment!"
      ]
    },
    {
      "cell_type": "markdown",
      "metadata": {
        "id": "EMitF5uSHP2l"
      },
      "source": [
        "This assignment is about testing your understanding of variables and operations.\n",
        "\n",
        "We are going to create some simple programs using these tools. Are you ready? Let's get started!"
      ]
    },
    {
      "cell_type": "markdown",
      "metadata": {
        "id": "UzwvyDMgHP2l"
      },
      "source": [
        "You will find some small tasks in sections below. You should use input() to get the user to enter the information and use print() to print the information on the screen. At this moment, we can assume users will follow instructions carefully - they will enter the valid inputs as required."
      ]
    },
    {
      "cell_type": "markdown",
      "metadata": {
        "id": "NkeG0FpRHP2m"
      },
      "source": [
        "## Simple check out\n",
        "\n",
        "###Instruction: You are going to program a super simple check-out system for a store. This store has an interesting rule that every customer can only buy one product (the quantity of the product is not limited) in one order.\n",
        "\n",
        "step1: Ask the user to enter the price / unit of the product (it should be a float)\n",
        "\n",
        "step2: Ask the user to enter the quantity of the product (it should be an integer)\n",
        "\n",
        "step3: We have a sales tax at 6.25%\n",
        "\n",
        "step4: Calculate and display the total amount of this order (for example, 59.25)\n",
        "\n",
        "step5: Ask the user to enter the amount of bills paid (for example, 60)\n",
        "\n",
        "step6: Calculate and display the change (for example, 0.75)"
      ]
    },
    {
      "cell_type": "code",
      "metadata": {
        "id": "x6IbZ6rFw76O",
        "colab": {
          "base_uri": "https://localhost:8080/"
        },
        "outputId": "6c27ca59-b713-438a-fcfc-83a741ff6e06"
      },
      "source": [
        "price=float(input('Enter the price of the product: '))\n",
        "quantity=int(input('Enter the quantity of the product: '))\n",
        "total=price*quantity*(1+0.0625)\n",
        "print('total=',total)\n",
        "bills=int(input('Enter the amount of bills paid: '))\n",
        "print('Change=',bills-total)"
      ],
      "execution_count": null,
      "outputs": [
        {
          "output_type": "stream",
          "name": "stdout",
          "text": [
            "Enter the price of the product: 10\n",
            "Enter the quantity of the product: 6\n",
            "total= 63.75\n",
            "Enter the amount of bills paid: 70\n",
            "Change= 6.25\n"
          ]
        }
      ]
    },
    {
      "cell_type": "code",
      "source": [
        "price = float(input('What is the price per unit of the product? '))\n",
        "quantity = int(input('What is the quantity of the product? '))\n",
        "total = price * quantity * (1 + 0.0625)\n",
        "print('The total amount of this order with tax is', total)\n",
        "paid = float(input('What is the amount of bill paid? (It should be larger than the total) '))\n",
        "change = paid - total\n",
        "print('The change is', change)"
      ],
      "metadata": {
        "colab": {
          "base_uri": "https://localhost:8080/"
        },
        "id": "afoqef3-RHoa",
        "outputId": "450cb746-2111-41f8-a7d2-3b2a082d4303"
      },
      "execution_count": null,
      "outputs": [
        {
          "output_type": "stream",
          "name": "stdout",
          "text": [
            "What is the price per unit of the product? 10\n",
            "What is the quantity of the product? 6\n",
            "The total amount of this order with tax is 63.75\n",
            "What is the amount of bill paid? (It should be larger than the total) 70\n",
            "The change is 6.25\n"
          ]
        }
      ]
    },
    {
      "cell_type": "markdown",
      "metadata": {
        "id": "fZfiqg5lxFKF"
      },
      "source": [
        "## Tips Split\n",
        "\n",
        "###Instruction: You are going to program a super simple tip split system.\n",
        "\n",
        "step1: Ask the user to enter the total amount of meal before tax (it should be a float)\n",
        "\n",
        "step2: Ask the user to enter the number of people to split the tips (it should be an integer)\n",
        "\n",
        "step3: We have a sales tax at 6.25%, and we tip at 18%\n",
        "\n",
        "step4: Calculate and display the total amount due  (including tax and tips)\n",
        "\n",
        "step5: Calculate and display the amount each person should pay."
      ]
    },
    {
      "cell_type": "code",
      "metadata": {
        "id": "2bODNGPSx1-m",
        "colab": {
          "base_uri": "https://localhost:8080/"
        },
        "outputId": "844ba875-5bb1-4fb3-b171-47dc9e22ce07"
      },
      "source": [
        "meal_before=float(input('Enter the total amount of meal before tax: '))\n",
        "people=int(input('enter the number of people to split the tips: '))\n",
        "total_amount=meal_before*(1+(0.0625+0.18))\n",
        "print('The total amount is=',total_amount,'USD')\n",
        "print('Each one has to pay: ', total_amount/people)"
      ],
      "execution_count": null,
      "outputs": [
        {
          "output_type": "stream",
          "name": "stdout",
          "text": [
            "Enter the total amount of meal before tax: 100\n",
            "enter the number of people to split the tips: 5\n",
            "The total amount is= 124.25 USD\n",
            "Each one has to pay:  24.85\n"
          ]
        }
      ]
    },
    {
      "cell_type": "code",
      "source": [
        "total = float(input('What is the total amount of the meal before tax? '))\n",
        "num = int(input('How many people to split the tips? '))\n",
        "tax = 0.0625\n",
        "tip = 0.18\n",
        "total_due = total * (1 + tax + tip)\n",
        "each_due = total_due / num\n",
        "print('Total due is', total_due, '. Each due is', each_due)"
      ],
      "metadata": {
        "colab": {
          "base_uri": "https://localhost:8080/"
        },
        "id": "ICXK69w6b3X1",
        "outputId": "80ec8c0d-02d0-4593-9ca2-cb6a73bd5992"
      },
      "execution_count": null,
      "outputs": [
        {
          "output_type": "stream",
          "name": "stdout",
          "text": [
            "What is the total amount of the meal before tax? 100\n",
            "How many people to split the tips? 5\n",
            "Total due is 124.25 . Each due is 24.85\n"
          ]
        }
      ]
    },
    {
      "cell_type": "markdown",
      "metadata": {
        "id": "cZmW-HnwyHcI"
      },
      "source": [
        "## Compound Interest\n",
        "\n",
        "###Instruction: You are going to program a super simple Compound Interest calcualtor.\n",
        "\n",
        "step1: Ask the user to enter the amount saving right now (it should be a float)\n",
        "\n",
        "step2: Ask the user to enter the number of years(it should be an integer)\n",
        "\n",
        "step3: Ask the user to enter the interest rate (it should be a float number, and 0.03 represents 3%)\n",
        "\n",
        "step4: Calculate and display the total amount after these years\n",
        "\n",
        "$A = P \\left(1 + \\frac{r}{n}\\right)^{nt}$\n",
        "\n",
        "Where:\n",
        "\n",
        "\n",
        "A is the future value of the investment/loan, including interest.\n",
        "\n",
        "P is the principal amount (initial investment/loan amount).\n",
        "\n",
        "r is the annual interest rate (decimal).\n",
        "\n",
        "n is the number of times that interest is compounded per year. n ofr 1 year\n",
        "\n",
        "t is the number of years the money is invested/borrowed for."
      ]
    },
    {
      "cell_type": "code",
      "metadata": {
        "id": "wk6FHvAvyr_G",
        "colab": {
          "base_uri": "https://localhost:8080/"
        },
        "outputId": "d9a753ed-8ef4-4cde-86c9-e85723b81464"
      },
      "source": [
        "p=float(input('Enter the amount saving now: '))\n",
        "t=int(input('Enter the number of years: '))\n",
        "r=float(input('Enter the interest rate: '))\n",
        "print('The amount saved after',n,'years',p*((1+(r/1))**(1*t)))"
      ],
      "execution_count": null,
      "outputs": [
        {
          "output_type": "stream",
          "name": "stdout",
          "text": [
            "Enter the amount saving now: 1000\n",
            "Enter the number of years: 5\n",
            "Enter the interest rate: 0.03\n",
            "The amount saved after 5 years 1159.2740743000002\n"
          ]
        }
      ]
    },
    {
      "cell_type": "code",
      "source": [
        "saving = float(input('What is the amount of saving right now? '))\n",
        "years = int(input('What is the number of years? '))\n",
        "rate = float(input('What is the interest rate per year? (it should be a float number, and 0.0'))\n",
        "total = saving * (1 + rate) ** years\n",
        "print('The total amount after these years is:', total)"
      ],
      "metadata": {
        "colab": {
          "base_uri": "https://localhost:8080/"
        },
        "id": "6iCBwDFQcAiX",
        "outputId": "17321861-cd2e-44bd-edcc-15a59f27dc59"
      },
      "execution_count": null,
      "outputs": [
        {
          "output_type": "stream",
          "name": "stdout",
          "text": [
            "What is the amount of saving right now? 1000\n",
            "What is the number of years? 5\n",
            "What is the interest rate per year? (it should be a float number, and 0.00.03\n",
            "The total amount after these years is: 1159.2740743000002\n"
          ]
        }
      ]
    },
    {
      "cell_type": "markdown",
      "metadata": {
        "id": "7Ysdu7UJ_qf8"
      },
      "source": [
        "**Congratulations! You finished this Assignment and completed Module 2!**"
      ]
    }
  ]
}
