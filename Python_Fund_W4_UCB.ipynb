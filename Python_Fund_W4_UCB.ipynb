{
  "nbformat": 4,
  "nbformat_minor": 0,
  "metadata": {
    "colab": {
      "provenance": [],
      "authorship_tag": "ABX9TyMizpcroNEqFxCl3WDh94LQ",
      "include_colab_link": true
    },
    "kernelspec": {
      "name": "python3",
      "display_name": "Python 3"
    },
    "language_info": {
      "name": "python"
    }
  },
  "cells": [
    {
      "cell_type": "markdown",
      "metadata": {
        "id": "view-in-github",
        "colab_type": "text"
      },
      "source": [
        "<a href=\"https://colab.research.google.com/github/cysorianoc/Python_for_data_science/blob/main/Python_Fund_W4_UCB.ipynb\" target=\"_parent\"><img src=\"https://colab.research.google.com/assets/colab-badge.svg\" alt=\"Open In Colab\"/></a>"
      ]
    },
    {
      "cell_type": "markdown",
      "source": [
        "# Week 4: Why do we need repetitions ?\n",
        "Recap:\n",
        "- We learned input/output methods\n",
        "- We learned variables and operations\n",
        "- We learned branching as flow control\n",
        "- **Now let's learn about reppetition**\n",
        "\n",
        "## Repetition\n",
        "\n",
        "- We often need to run programs (or subtasks) repeatedly. Writing the same code multiple times may bring some debug issues for instance.\n",
        "- Rather than write the same code again and again, we can set a **repetition** flow control to execute statements based on:\n",
        "  - **Condition** as long it is satisfied, the code will run again and again.\n",
        "  - **Count** to set the number of times that the code will run.\n"
      ],
      "metadata": {
        "id": "qwWHv3AobhyB"
      }
    },
    {
      "cell_type": "markdown",
      "source": [
        "## Condition-based repetition\n",
        " Here we check a condition multiple times if it is still valid: /\n",
        "\n",
        "\n",
        " ![image.png](data:image/png;base64,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)"
      ],
      "metadata": {
        "id": "aVBaLAj5dniO"
      }
    },
    {
      "cell_type": "markdown",
      "source": [
        "## Condition-Based Repetition\n",
        "\n",
        "It has a similar structure as decision structure as we see. The only difference is that the branching takes us to the next part of the program by going back to the previous stage of the condition.\n",
        "\n",
        "When the condition is false, we get out of the loop.\n",
        "\n",
        "## Synthax: the *while* Loop\n",
        "\n",
        "- We can use *while* to start a loop:\\\n",
        "``while condition``\\\n",
        "``statements``\n",
        "- The first line is known as the *while* clause\n",
        "  - *While* clause specifies the *condition* with a ``:``\n",
        "  - List of statement(s) with consistent indentation\n",
        "  - If the condition is tested to be *True*, the statements in *while* clause will be executed; otherwise, skip and move to next.\n",
        "\n"
      ],
      "metadata": {
        "id": "AzTaYUM3fsZF"
      }
    },
    {
      "cell_type": "code",
      "source": [
        "# Print all positive integers up to 10\n",
        "x=0\n",
        "while x<=10:\n",
        "  print(x)\n",
        "  x+=1 # is the same as saying x=x+1\n",
        "  # The instruction x=x+1 changes the instructions inside the loop, otherwisw there would be an infinite loop\n"
      ],
      "metadata": {
        "colab": {
          "base_uri": "https://localhost:8080/"
        },
        "id": "lrf6qUw3heue",
        "outputId": "967fab37-ec2a-4c2e-f101-ab14bbb98945"
      },
      "execution_count": null,
      "outputs": [
        {
          "output_type": "stream",
          "name": "stdout",
          "text": [
            "0\n",
            "1\n",
            "2\n",
            "3\n",
            "4\n",
            "5\n",
            "6\n",
            "7\n",
            "8\n",
            "9\n",
            "10\n"
          ]
        }
      ]
    },
    {
      "cell_type": "code",
      "source": [
        "# Print all integers from 10 to 0\n",
        "x=10\n",
        "while x>=0: #this is our end condition\n",
        "  print(x)\n",
        "  x-=1 # same as x=x-1"
      ],
      "metadata": {
        "id": "XQU4zni-ixrz",
        "colab": {
          "base_uri": "https://localhost:8080/"
        },
        "outputId": "e7d5f8ee-86ae-4eb2-a224-964b03e6f113"
      },
      "execution_count": null,
      "outputs": [
        {
          "output_type": "stream",
          "name": "stdout",
          "text": [
            "10\n",
            "9\n",
            "8\n",
            "7\n",
            "6\n",
            "5\n",
            "4\n",
            "3\n",
            "2\n",
            "1\n",
            "0\n"
          ]
        }
      ]
    },
    {
      "cell_type": "code",
      "source": [
        "# input validation - only print 'bingo' when typed 'secret'\n",
        "password_on_record='secret'\n",
        "password_entered=input('please enter your password: ')\n",
        "while password_entered != password_on_record:\n",
        "  password_entered=input('Wrong! Please enter your password: ')\n",
        "\n",
        "print('Bingo! Welcome')\n"
      ],
      "metadata": {
        "colab": {
          "base_uri": "https://localhost:8080/"
        },
        "id": "bMRwuDyw9gav",
        "outputId": "dca30289-2be3-42c6-e9a8-a704b18a3578"
      },
      "execution_count": null,
      "outputs": [
        {
          "output_type": "stream",
          "name": "stdout",
          "text": [
            "please enter your password: password\n",
            "Wrong! Please enter your password: wrong\n",
            "Wrong! Please enter your password: again\n",
            "Wrong! Please enter your password: something else\n",
            "Wrong! Please enter your password: secret\n",
            "Bingo! Welcome\n"
          ]
        }
      ]
    },
    {
      "cell_type": "code",
      "source": [
        "# flag-enter stop to exit a program\n",
        "# this is some kind similar to the input validation program\n",
        "flag=True\n",
        "while flag:\n",
        "  inputs= input('please enter some words to display, enter STOP to exit')\n",
        "  if inputs=='STOP':\n",
        "    flag=False\n",
        "  print(inputs)\n"
      ],
      "metadata": {
        "colab": {
          "base_uri": "https://localhost:8080/"
        },
        "id": "2aQlp_l1_Ab9",
        "outputId": "6d532224-0cb6-4d6e-b4a0-8748940dfc97"
      },
      "execution_count": null,
      "outputs": [
        {
          "output_type": "stream",
          "name": "stdout",
          "text": [
            "please enter some words to display, enter STOP to exittext\n",
            "text\n",
            "please enter some words to display, enter STOP to exitpython\n",
            "python\n",
            "please enter some words to display, enter STOP to exithello\n",
            "hello\n",
            "please enter some words to display, enter STOP to exitworld\n",
            "world\n",
            "please enter some words to display, enter STOP to exitSTOP\n",
            "STOP\n"
          ]
        }
      ]
    },
    {
      "cell_type": "markdown",
      "metadata": {
        "id": "cnAUJprJdh9_"
      },
      "source": [
        "# Welcome to our Lab Practice!"
      ]
    },
    {
      "cell_type": "markdown",
      "metadata": {
        "id": "vVYcayGedmms"
      },
      "source": [
        "This lab is about repetition - while loops. Are you ready? Let's get started!"
      ]
    },
    {
      "cell_type": "markdown",
      "metadata": {
        "id": "JP8eGBVyeSQx"
      },
      "source": [
        "You will find some small tasks in sections below."
      ]
    },
    {
      "cell_type": "markdown",
      "metadata": {
        "id": "EZ42d1Sue0Zp"
      },
      "source": [
        "###Task: Print all integers from -5 to 5.\n"
      ]
    },
    {
      "cell_type": "code",
      "metadata": {
        "id": "yDzNIHsSeu85",
        "colab": {
          "base_uri": "https://localhost:8080/"
        },
        "outputId": "8b8221c8-cc2e-49e2-a45f-855122b05763"
      },
      "source": [
        "x=-5\n",
        "while x<=5:\n",
        "  print(x)\n",
        "  x+=1"
      ],
      "execution_count": null,
      "outputs": [
        {
          "output_type": "stream",
          "name": "stdout",
          "text": [
            "-5\n",
            "-4\n",
            "-3\n",
            "-2\n",
            "-1\n",
            "0\n",
            "1\n",
            "2\n",
            "3\n",
            "4\n",
            "5\n"
          ]
        }
      ]
    },
    {
      "cell_type": "markdown",
      "metadata": {
        "id": "u8WEYfEqIbWX"
      },
      "source": [
        "###Task: Print all integers of an interval given by the user\n",
        "\n",
        "Ask the user to enter two integers and print all integers between (including) them."
      ]
    },
    {
      "cell_type": "code",
      "metadata": {
        "id": "LKSmcHRRJUYY",
        "colab": {
          "base_uri": "https://localhost:8080/"
        },
        "outputId": "01e02567-1e53-44fd-eb29-7fbf9969096f"
      },
      "source": [
        "low_limit=int(input('Enter the low boundary value: '))\n",
        "up_limit=int(input('Enter the up boundary value: '))\n",
        "while low_limit<=up_limit:\n",
        "  print(low_limit)\n",
        "  low_limit+=1"
      ],
      "execution_count": null,
      "outputs": [
        {
          "output_type": "stream",
          "name": "stdout",
          "text": [
            "Enter the low boundary value: -4\n",
            "Enter the up boundary value: 11\n",
            "-4\n",
            "-3\n",
            "-2\n",
            "-1\n",
            "0\n",
            "1\n",
            "2\n",
            "3\n",
            "4\n",
            "5\n",
            "6\n",
            "7\n",
            "8\n",
            "9\n",
            "10\n",
            "11\n"
          ]
        }
      ]
    },
    {
      "cell_type": "markdown",
      "metadata": {
        "id": "-__o8ovbfSEH"
      },
      "source": [
        "###Task: Double The Number\n",
        "\n",
        "Step 1: Ask the user to enter a small positive number (0 - 10)\n",
        "\n",
        "Step 2: Double the number, print it out, and repeat, until the number beyond 1,000,000\n",
        "\n",
        "(How fast the number is growing)"
      ]
    },
    {
      "cell_type": "code",
      "metadata": {
        "id": "hOpxhSKog18Y",
        "colab": {
          "base_uri": "https://localhost:8080/"
        },
        "outputId": "ebdeb3a4-a8b9-44d9-b338-0e42fdd669d6"
      },
      "source": [
        "number=int(input('Enter a positive number between 1 and 10: '))\n",
        "while number<=1000000:\n",
        "  print(number)\n",
        "  number=number*2"
      ],
      "execution_count": null,
      "outputs": [
        {
          "output_type": "stream",
          "name": "stdout",
          "text": [
            "Enter a positive number between 1 and 10: 1\n",
            "1\n",
            "2\n",
            "4\n",
            "8\n",
            "16\n",
            "32\n",
            "64\n",
            "128\n",
            "256\n",
            "512\n",
            "1024\n",
            "2048\n",
            "4096\n",
            "8192\n",
            "16384\n",
            "32768\n",
            "65536\n",
            "131072\n",
            "262144\n",
            "524288\n"
          ]
        }
      ]
    },
    {
      "cell_type": "markdown",
      "metadata": {
        "id": "uZYVZQIvIlPy"
      },
      "source": [
        "###Task: Keep asking for candy until 'STOP'  \n",
        "\n",
        "Step1: Ask the user to enter anything\n",
        "\n",
        "Step2: print a message 'Thanks! I got a candy'\n",
        "\n",
        "Step3: Repeat Step 1 and 2, until the user enter 'Done'\n",
        "\n",
        "Step4: print a message 'Thanks! I have enough.'"
      ]
    },
    {
      "cell_type": "code",
      "metadata": {
        "id": "Y_3dcyvcQ2GI",
        "colab": {
          "base_uri": "https://localhost:8080/"
        },
        "outputId": "aa28b713-6bc7-4f10-fde3-887ef0a48dba"
      },
      "source": [
        "flag=True\n",
        "while flag:\n",
        "  inputs = input('Enter anything, type \\'Done to stop\\': ')\n",
        "  if inputs != 'Done':\n",
        "    print('Thanks! I got a candy')\n",
        "  elif inputs=='Done':\n",
        "    flag=False\n",
        "    print('Thanks!  I have enough')"
      ],
      "execution_count": null,
      "outputs": [
        {
          "output_type": "stream",
          "name": "stdout",
          "text": [
            "Enter anything, type 'Done to stop': text\n",
            "Thanks! I got a candy\n",
            "Enter anything, type 'Done to stop': word\n",
            "Thanks! I got a candy\n",
            "Enter anything, type 'Done to stop': Done\n",
            "Thanks!  I have enough\n"
          ]
        }
      ]
    },
    {
      "cell_type": "code",
      "source": [
        "# Alternative solution from the Instructor's answers\n",
        "msg  = input('Enter anything to continue, enter \"Done\" to stop: ')\n",
        "while msg != 'Done':\n",
        "  print('Thanks! I got a candy')\n",
        "  msg = input('Enter anything to continue, enter \"Done\" to stop: ')\n",
        "print('Thanks! I have enough')"
      ],
      "metadata": {
        "colab": {
          "base_uri": "https://localhost:8080/"
        },
        "id": "xATmHq_3TAGJ",
        "outputId": "8d46a90e-3733-4ff1-84ff-324cceca4a69"
      },
      "execution_count": null,
      "outputs": [
        {
          "output_type": "stream",
          "name": "stdout",
          "text": [
            "Enter anything to continue, enter \"Done\" to stop: text\n",
            "Thanks! I got a candy\n",
            "Enter anything to continue, enter \"Done\" to stop: Done\n",
            "Thanks! I have enough\n"
          ]
        }
      ]
    },
    {
      "cell_type": "markdown",
      "metadata": {
        "id": "qKFwdIypmt5J"
      },
      "source": [
        "### Task: Password Setup\n",
        "\n",
        "*   Ask the user to enter a new password.\n",
        "*   Ask the user to enter the password again.\n",
        "*   If the second input matches the first one, print \"You are all set\", otherwise, repeat the process.\n"
      ]
    },
    {
      "cell_type": "code",
      "metadata": {
        "id": "6pqvFtl8nHei",
        "colab": {
          "base_uri": "https://localhost:8080/"
        },
        "outputId": "e9b055c6-0d3f-45ee-f922-894327157469"
      },
      "source": [
        "password_1=input('Enter a new password: ')\n",
        "password_2=input('Enter the password again: ')\n",
        "while password_1 != password_2:\n",
        "  print('The passwords do not coincide')\n",
        "  password_1=input('Enter a new password: ')\n",
        "  password_2=input('Enter the password again: ')\n",
        "print('You are all set')"
      ],
      "execution_count": null,
      "outputs": [
        {
          "output_type": "stream",
          "name": "stdout",
          "text": [
            "Enter a new password: 125\n",
            "Enter the password again: 124\n",
            "The passwords do not coincide\n",
            "Enter a new password: 1255\n",
            "Enter the password again: 1255\n",
            "You are all set\n"
          ]
        }
      ]
    },
    {
      "cell_type": "markdown",
      "source": [
        "## Count-based repetition\n",
        "\n",
        "How many times we run the loop is the criteria for a count-based repetition.\n",
        "\n",
        "### The *for* loop\n",
        "- We can use ``for`` to start a loop: \\\n",
        "``for item in [item_1, item_2, ... , item_n]: ``\\\n",
        "``statements``\n",
        "- Inside the brackets we have items that are connected, and separated by commas.\n",
        "- For each of the item in this connection, we are going to do some instructions.\n",
        "- The first line is knon as the *for* clause.\n",
        "  - ``for`` clause specifies the sequence of items with a ``:``\n",
        "  - Iterates onece for each ``item`` in the sequence.\n",
        "  - The *number* of items *n* in the sequence is the number of times the loop will be executed.\n",
        "\n",
        "### The *for* loop with *range*\n",
        "\n",
        "- We can use *range* to create a sequence for a *for* loop:\n",
        "\n",
        "``for items in range(n)`` \\\n",
        "``statements``\n",
        "\n",
        "Range will be a function that will generate for instance integers from zero to n-1.\n",
        "- *range()* characteristics:\n",
        "  - one argument: used as ending limit: range(5)=range(0,5)=range(0,5,1)->[0,1,2,3,4]\n",
        "  - two arguments: starting value and ending limit: range(2,5)=range(2,5,1)->[2,3,4]\n",
        "  - three arguments: third argument is step value: range(2,5,2)->[2,4]\n"
      ],
      "metadata": {
        "id": "KSxhkw9cUMxQ"
      }
    },
    {
      "cell_type": "code",
      "source": [
        "# print a list of integers [1,2,3,5,7]\n",
        "for i in [1,2,3,5,7]:\n",
        "  print(i)"
      ],
      "metadata": {
        "colab": {
          "base_uri": "https://localhost:8080/"
        },
        "id": "381dPMfFbyWC",
        "outputId": "7d7f99d8-5b4e-4714-dd38-c994541da6f2"
      },
      "execution_count": null,
      "outputs": [
        {
          "output_type": "stream",
          "name": "stdout",
          "text": [
            "1\n",
            "2\n",
            "3\n",
            "5\n",
            "7\n"
          ]
        }
      ]
    },
    {
      "cell_type": "code",
      "source": [
        "# print a range of numbers with a certain step\n",
        "for i in range(5,50,3):\n",
        "  print(i)\n"
      ],
      "metadata": {
        "colab": {
          "base_uri": "https://localhost:8080/"
        },
        "id": "qmj9AJh5cEHW",
        "outputId": "3d861e83-46dc-422a-8682-36d7f78e0134"
      },
      "execution_count": null,
      "outputs": [
        {
          "output_type": "stream",
          "name": "stdout",
          "text": [
            "5\n",
            "8\n",
            "11\n",
            "14\n",
            "17\n",
            "20\n",
            "23\n",
            "26\n",
            "29\n",
            "32\n",
            "35\n",
            "38\n",
            "41\n",
            "44\n",
            "47\n"
          ]
        }
      ]
    },
    {
      "cell_type": "code",
      "source": [
        "# print each char in a string\n",
        "for c in 'Hello, world':\n",
        "  print(c)"
      ],
      "metadata": {
        "colab": {
          "base_uri": "https://localhost:8080/"
        },
        "id": "i5FaRCDKcc9A",
        "outputId": "035ebbd9-70e8-4ab5-e66c-85afaed7dd14"
      },
      "execution_count": null,
      "outputs": [
        {
          "output_type": "stream",
          "name": "stdout",
          "text": [
            "H\n",
            "e\n",
            "l\n",
            "l\n",
            "o\n",
            ",\n",
            " \n",
            "w\n",
            "o\n",
            "r\n",
            "l\n",
            "d\n"
          ]
        }
      ]
    },
    {
      "cell_type": "code",
      "source": [
        "# calculate the sum of a list of numbers\n",
        "numbers=[1,2,3,5,7]\n",
        "sum=0 # we need a placeholder that will increase for each step\n",
        "for n in numbers:\n",
        "  sum=sum+n # altenratively sum+=n on each cycle, for changes nm then it accumulates with sum\n",
        "print(sum)"
      ],
      "metadata": {
        "colab": {
          "base_uri": "https://localhost:8080/"
        },
        "id": "ZPVGzQtcc00s",
        "outputId": "4348fa0d-27f9-4ee9-e35d-5445ed59e231"
      },
      "execution_count": null,
      "outputs": [
        {
          "output_type": "stream",
          "name": "stdout",
          "text": [
            "18\n"
          ]
        }
      ]
    },
    {
      "cell_type": "code",
      "source": [
        "# calculate the sum from 0 to 100\n",
        "sum=0\n",
        "for n in range(0,101):\n",
        "  sum+=n\n",
        "print(sum)"
      ],
      "metadata": {
        "colab": {
          "base_uri": "https://localhost:8080/"
        },
        "id": "cVZR0n5-e3hO",
        "outputId": "4687124b-aefa-47e1-df17-44e6f1761071"
      },
      "execution_count": null,
      "outputs": [
        {
          "output_type": "stream",
          "name": "stdout",
          "text": [
            "5050\n"
          ]
        }
      ]
    },
    {
      "cell_type": "code",
      "source": [
        "\"\"\"\n",
        "explanation for the previous code\n",
        "if we see the range from 0 to 100\n",
        "we will have the numbers from 0 to 99\n",
        "so the range has to be increased to 101\n",
        "to include 100\n",
        "\"\"\"\n",
        "for n in range(100):\n",
        "  print(n)"
      ],
      "metadata": {
        "id": "2BJWc5U5fUZj"
      },
      "execution_count": null,
      "outputs": []
    },
    {
      "cell_type": "code",
      "source": [],
      "metadata": {
        "id": "2nvCVMSIjYY7"
      },
      "execution_count": null,
      "outputs": []
    },
    {
      "cell_type": "markdown",
      "metadata": {
        "id": "1D7RQ8u1jvxO"
      },
      "source": [
        "# Welcome to our Lab Practice!"
      ]
    },
    {
      "cell_type": "markdown",
      "metadata": {
        "id": "F97d6qsKjvxW"
      },
      "source": [
        "This lab is about repetition - for loops. Are you ready? Let's get started!"
      ]
    },
    {
      "cell_type": "markdown",
      "metadata": {
        "id": "cptgEpy5jvxW"
      },
      "source": [
        "You will find some small tasks in sections below."
      ]
    },
    {
      "cell_type": "markdown",
      "metadata": {
        "id": "dgugXiakzLOB"
      },
      "source": [
        "###Task: Print all even numbers within 20"
      ]
    },
    {
      "cell_type": "code",
      "metadata": {
        "id": "KGdX6n3ZzRtb",
        "colab": {
          "base_uri": "https://localhost:8080/"
        },
        "outputId": "190e31a1-210b-4522-8ee5-5fd44e4e762b"
      },
      "source": [
        "for n in range(0,21,2):\n",
        "  print(n)"
      ],
      "execution_count": null,
      "outputs": [
        {
          "output_type": "stream",
          "name": "stdout",
          "text": [
            "0\n",
            "2\n",
            "4\n",
            "6\n",
            "8\n",
            "10\n",
            "12\n",
            "14\n",
            "16\n",
            "18\n",
            "20\n"
          ]
        }
      ]
    },
    {
      "cell_type": "code",
      "source": [
        "# another solution\n",
        "for i in range(0,21):\n",
        "  if i % 2==0:\n",
        "    print(i)"
      ],
      "metadata": {
        "colab": {
          "base_uri": "https://localhost:8080/"
        },
        "id": "e_OGFDOolYlx",
        "outputId": "99a4281d-46b3-45bd-f4b7-c97818595ba9"
      },
      "execution_count": null,
      "outputs": [
        {
          "output_type": "stream",
          "name": "stdout",
          "text": [
            "0\n",
            "2\n",
            "4\n",
            "6\n",
            "8\n",
            "10\n",
            "12\n",
            "14\n",
            "16\n",
            "18\n",
            "20\n"
          ]
        }
      ]
    },
    {
      "cell_type": "markdown",
      "metadata": {
        "id": "qnE0ig4zzWGU"
      },
      "source": [
        "### Task: Print all numbers dividble by 5 within 100"
      ]
    },
    {
      "cell_type": "code",
      "metadata": {
        "id": "pzHVe6FFzfH_",
        "colab": {
          "base_uri": "https://localhost:8080/"
        },
        "outputId": "093c1f2e-698c-4a55-c8ab-b69de84aa459"
      },
      "source": [
        "for n in range(0,101,5):\n",
        "  print(n)"
      ],
      "execution_count": null,
      "outputs": [
        {
          "output_type": "stream",
          "name": "stdout",
          "text": [
            "0\n",
            "5\n",
            "10\n",
            "15\n",
            "20\n",
            "25\n",
            "30\n",
            "35\n",
            "40\n",
            "45\n",
            "50\n",
            "55\n",
            "60\n",
            "65\n",
            "70\n",
            "75\n",
            "80\n",
            "85\n",
            "90\n",
            "95\n",
            "100\n"
          ]
        }
      ]
    },
    {
      "cell_type": "code",
      "source": [
        "# Alternative solution\n",
        "for n in range(0,101):\n",
        "  if n%5==0:\n",
        "    print(n)"
      ],
      "metadata": {
        "colab": {
          "base_uri": "https://localhost:8080/"
        },
        "id": "-tQfFl9_luu_",
        "outputId": "20910384-fbb8-482b-efa6-45f1afdaa3cc"
      },
      "execution_count": null,
      "outputs": [
        {
          "output_type": "stream",
          "name": "stdout",
          "text": [
            "0\n",
            "5\n",
            "10\n",
            "15\n",
            "20\n",
            "25\n",
            "30\n",
            "35\n",
            "40\n",
            "45\n",
            "50\n",
            "55\n",
            "60\n",
            "65\n",
            "70\n",
            "75\n",
            "80\n",
            "85\n",
            "90\n",
            "95\n",
            "100\n"
          ]
        }
      ]
    },
    {
      "cell_type": "markdown",
      "metadata": {
        "id": "O43-_RDmjvxX"
      },
      "source": [
        "###Task: Print all integers from -5 to 5.\n"
      ]
    },
    {
      "cell_type": "code",
      "metadata": {
        "colab": {
          "base_uri": "https://localhost:8080/"
        },
        "id": "689YXcvBjvxX",
        "outputId": "0fecea6b-5c0b-44a2-a008-43a54a2c3255"
      },
      "source": [
        "for n in range(-5,6):\n",
        "  print(n)"
      ],
      "execution_count": null,
      "outputs": [
        {
          "output_type": "stream",
          "name": "stdout",
          "text": [
            "-5\n",
            "-4\n",
            "-3\n",
            "-2\n",
            "-1\n",
            "0\n",
            "1\n",
            "2\n",
            "3\n",
            "4\n",
            "5\n"
          ]
        }
      ]
    },
    {
      "cell_type": "markdown",
      "metadata": {
        "id": "72IG-C7tjvxY"
      },
      "source": [
        "###Task: Print all integers of an interval given by the user\n",
        "\n",
        "Ask the user to enter two integers and print all integers between (including) them."
      ]
    },
    {
      "cell_type": "code",
      "metadata": {
        "colab": {
          "base_uri": "https://localhost:8080/"
        },
        "id": "svJqD-52jvxY",
        "outputId": "43ec19f6-e7af-4b2d-e442-24171bb51531"
      },
      "source": [
        "low_val=int(input('Enter a the low boundary number: '))\n",
        "up_val=int(input('Enter the up boundary number: '))\n",
        "up_val_range=up_val+1\n",
        "for n in range(low_val, up_val_range):\n",
        "  print(n)"
      ],
      "execution_count": null,
      "outputs": [
        {
          "output_type": "stream",
          "name": "stdout",
          "text": [
            "Enter a the low boundary number: -3\n",
            "Enter the up boundary number: 3\n",
            "-3\n",
            "-2\n",
            "-1\n",
            "0\n",
            "1\n",
            "2\n",
            "3\n"
          ]
        }
      ]
    },
    {
      "cell_type": "code",
      "source": [
        "# alternative solution\n",
        "low_val=int(input('Enter a the low boundary number: '))\n",
        "up_val=int(input('Enter the up boundary number: '))\n",
        "for n in range(low_val, up_val+1):\n",
        "  print(n)"
      ],
      "metadata": {
        "colab": {
          "base_uri": "https://localhost:8080/"
        },
        "id": "-Jte7-9Rk105",
        "outputId": "44a0ae46-636b-4bd8-9422-708c3d628855"
      },
      "execution_count": null,
      "outputs": [
        {
          "output_type": "stream",
          "name": "stdout",
          "text": [
            "Enter a the low boundary number: -5\n",
            "Enter the up boundary number: 10\n",
            "-5\n",
            "-4\n",
            "-3\n",
            "-2\n",
            "-1\n",
            "0\n",
            "1\n",
            "2\n",
            "3\n",
            "4\n",
            "5\n",
            "6\n",
            "7\n",
            "8\n",
            "9\n",
            "10\n"
          ]
        }
      ]
    },
    {
      "cell_type": "markdown",
      "source": [
        "# continue and break\n",
        "\n",
        "If we want to have extra control. If we want to skip a certain part of a statememt. So we have **continue** and **creak** keywords.\n",
        "\n",
        "- In Repetition structure, we can use two special control repetitions:\n",
        "- *continue*\n",
        "  -  skip the rest of the statement and jump to the next interation.\n",
        "- *break*\n",
        "  - stop the repetition immediately."
      ],
      "metadata": {
        "id": "4tETNgyITzhY"
      }
    },
    {
      "cell_type": "code",
      "source": [
        "# when enter stop to exit\n",
        "while True:\n",
        "  inputs=input('Please enter some words to display, STOP to stop:')\n",
        "  if inputs=='STOP':\n",
        "    break\n",
        "  print(inputs)"
      ],
      "metadata": {
        "colab": {
          "base_uri": "https://localhost:8080/"
        },
        "id": "XS8xnORJVBJH",
        "outputId": "873d107c-6135-488d-a283-667e8e9999a3"
      },
      "execution_count": null,
      "outputs": [
        {
          "name": "stdout",
          "output_type": "stream",
          "text": [
            "Please enter some words to display, STOP to stop:hello\n",
            "hello\n",
            "Please enter some words to display, STOP to stop:world\n",
            "world\n",
            "Please enter some words to display, STOP to stop:python\n",
            "python\n",
            "Please enter some words to display, STOP to stop:STOP\n"
          ]
        }
      ]
    },
    {
      "cell_type": "code",
      "source": [
        "# print all numbers whose square is less than 100\n",
        "\n",
        "x=0\n",
        "while True:\n",
        "  if x**2>=100:\n",
        "    break\n",
        "  print(x)\n",
        "  x=x+1\n",
        "\n"
      ],
      "metadata": {
        "colab": {
          "base_uri": "https://localhost:8080/"
        },
        "id": "-LyhMqxTW58i",
        "outputId": "9af09cfb-794f-43af-b3a5-20d3350dbd3d"
      },
      "execution_count": null,
      "outputs": [
        {
          "output_type": "stream",
          "name": "stdout",
          "text": [
            "0\n",
            "1\n",
            "2\n",
            "3\n",
            "4\n",
            "5\n",
            "6\n",
            "7\n",
            "8\n",
            "9\n"
          ]
        }
      ]
    },
    {
      "cell_type": "code",
      "source": [
        "# print numbers dibidable by 5 within 100\n",
        "\n",
        "for i in range(101):\n",
        "  if i%5!=0:\n",
        "    continue\n",
        "  print(i)\n"
      ],
      "metadata": {
        "colab": {
          "base_uri": "https://localhost:8080/"
        },
        "id": "QgEk6GEWX0H3",
        "outputId": "980a754a-f002-425e-b17e-e39759539ad8"
      },
      "execution_count": null,
      "outputs": [
        {
          "output_type": "stream",
          "name": "stdout",
          "text": [
            "0\n",
            "5\n",
            "10\n",
            "15\n",
            "20\n",
            "25\n",
            "30\n",
            "35\n",
            "40\n",
            "45\n",
            "50\n",
            "55\n",
            "60\n",
            "65\n",
            "70\n",
            "75\n",
            "80\n",
            "85\n",
            "90\n",
            "95\n",
            "100\n"
          ]
        }
      ]
    },
    {
      "cell_type": "code",
      "source": [
        "fruits = [\"apple\", \"banana\", \"cherry\"]\n",
        "for x in fruits:\n",
        "    if x == \"banana\":\n",
        "        continue\n",
        "    print(x)"
      ],
      "metadata": {
        "colab": {
          "base_uri": "https://localhost:8080/"
        },
        "id": "rVolLG9yaNaY",
        "outputId": "0d7ff1a4-fe29-4ca9-b87a-9b54e381e7ca"
      },
      "execution_count": null,
      "outputs": [
        {
          "output_type": "stream",
          "name": "stdout",
          "text": [
            "apple\n",
            "cherry\n"
          ]
        }
      ]
    },
    {
      "cell_type": "code",
      "source": [],
      "metadata": {
        "id": "xrI035KeckFF"
      },
      "execution_count": null,
      "outputs": []
    },
    {
      "cell_type": "markdown",
      "metadata": {
        "id": "SKB__Cckckpn"
      },
      "source": [
        "# Welcome to our last assignment!"
      ]
    },
    {
      "cell_type": "markdown",
      "metadata": {
        "id": "rWEMJeEtckpn"
      },
      "source": [
        "This assignment is about testing your understanding of flow control: repetition.\n",
        "\n",
        "We are going to create some simple programs using these tools. Are you ready? Let's get started!"
      ]
    },
    {
      "cell_type": "markdown",
      "metadata": {
        "id": "BIacsfIUckpn"
      },
      "source": [
        "You will find some small tasks in sections below. You should use input() to get the user to enter the information and use print() to print the information on the screen. At this moment, we can assume users will follow instructions carefully - they will enter the valid inputs as required."
      ]
    },
    {
      "cell_type": "markdown",
      "metadata": {
        "id": "TNbXeCDFeAcJ"
      },
      "source": [
        "## Prime Numbers\n",
        "> Let's be kind to welcome 1 as a prime number for this exercise.\n",
        "\n",
        "### Instruction:\n",
        "\n",
        "Step 1: Ask the user to enter an integer\n",
        "\n",
        "Step 2: find and print all prime numbers up to the integer."
      ]
    },
    {
      "cell_type": "code",
      "metadata": {
        "id": "x6IbZ6rFw76O",
        "colab": {
          "base_uri": "https://localhost:8080/"
        },
        "outputId": "483f3f37-b719-43c0-b9b1-84cd0bcfafde"
      },
      "source": [
        "n=int(input('Enter an integer: '))\n",
        "for i in range (1,n+1):\n",
        "  prime=True\n",
        "  for j in range(2,i):\n",
        "    if i%j==0:\n",
        "      prime=False\n",
        "      break\n",
        "  if prime:\n",
        "   print(i)\n"
      ],
      "execution_count": null,
      "outputs": [
        {
          "output_type": "stream",
          "name": "stdout",
          "text": [
            "Enter an integer: 20\n",
            "1\n",
            "2\n",
            "3\n",
            "5\n",
            "7\n",
            "11\n",
            "13\n",
            "17\n",
            "19\n"
          ]
        }
      ]
    },
    {
      "cell_type": "markdown",
      "metadata": {
        "id": "cZmW-HnwyHcI"
      },
      "source": [
        "## A Simple Grade Book\n",
        "\n",
        "###Instruction: You are going to program a simple grade book.\n",
        "\n",
        "step1: Ask the user to enter the number of students in a class\n",
        "\n",
        "step2: Ask the user to enter the grade (in a 0-100 scale) of each student  \n",
        "\n",
        "step3: Calculate and print the average, min, and max grade of the class."
      ]
    },
    {
      "cell_type": "code",
      "metadata": {
        "id": "wk6FHvAvyr_G",
        "colab": {
          "base_uri": "https://localhost:8080/"
        },
        "outputId": "4bbee64e-a35c-42c8-a8fc-97dabaa6a83c"
      },
      "source": [
        "n=int(input('Enter the number of students in a class: '))\n",
        "total=0\n",
        "min=100\n",
        "max=0\n",
        "for i in range(n):\n",
        "  grade=int(input('Enter the grade for student'))\n",
        "  total+=grade\n",
        "  average=total/n\n",
        "  if grade<min:\n",
        "    min=grade\n",
        "  if grade>max:\n",
        "    max=grade\n",
        "print('Average: ',average, 'Min:', min, 'Max: ', max)"
      ],
      "execution_count": null,
      "outputs": [
        {
          "output_type": "stream",
          "name": "stdout",
          "text": [
            "Enter the number of students in a class: 3\n",
            "Enter the grade for student30\n",
            "Enter the grade for student60\n",
            "Enter the grade for student90\n",
            "Average:  60.0 Min: 30 Max:  90\n"
          ]
        }
      ]
    },
    {
      "cell_type": "code",
      "source": [
        "n=int(input('Enter the number of students in a class: '))\n",
        "notes = []\n",
        "del(max) # delete the max value previously stored somewhere else\n",
        "del(min) # do the same\n",
        "for i in range(n):\n",
        "    grade=int(input('Enter the grade for student: '))\n",
        "    total+=grade\n",
        "    notes.append(grade)\n",
        "    average=total/n\n",
        "print('Average: ',average, 'Min:', min(notes), 'Max: ', max(notes))\n"
      ],
      "metadata": {
        "colab": {
          "base_uri": "https://localhost:8080/"
        },
        "id": "TJC5hrZo3Mwm",
        "outputId": "d8fbf163-2da9-4a91-ef6e-f5090a028896"
      },
      "execution_count": null,
      "outputs": [
        {
          "output_type": "stream",
          "name": "stdout",
          "text": [
            "Enter the number of students in a class: 3\n",
            "Enter the grade for student30\n",
            "Enter the grade for student60\n",
            "Enter the grade for student90\n",
            "Average:  120.0 Min: 30 Max:  90\n"
          ]
        }
      ]
    },
    {
      "cell_type": "markdown",
      "metadata": {
        "id": "UQBB918Z2e9F"
      },
      "source": [
        "## Fahrenheit to Celcius Converter\n",
        "\n",
        "###Instruction: You are going to program a simple converter which converts a Fahrenheit degree to Celcius degree..\n",
        "\n",
        "step1: Ask the user to enter the number in Fahrenheit, (enter stop to quit the program)\n",
        "\n",
        "step2: Calculate the celcius based on the formular c = (f - 32) * 5 / 9\n",
        "\n",
        "step3: print the celcius"
      ]
    },
    {
      "cell_type": "code",
      "metadata": {
        "id": "KCYqU3Sp2cpT",
        "colab": {
          "base_uri": "https://localhost:8080/"
        },
        "outputId": "549e89cf-1961-4540-cfa3-c69835f78f21"
      },
      "source": [
        "f=(input('Enter the temperature in Farenheit (enter STOP to quit): '))\n",
        "while f !='STOP':\n",
        "  f=float(f)\n",
        "  c=(f-32)*5/9\n",
        "  print('Celsius:', c)\n",
        "  f=input('Enter another temperature in Farenheit (enter STOP to quit):')"
      ],
      "execution_count": null,
      "outputs": [
        {
          "name": "stdout",
          "output_type": "stream",
          "text": [
            "Enter the temperature in Farenheit (enter STOP to quit): 100\n",
            "Celsius: 37.77777777777778\n",
            "Enter another temperature in Farenheit (enter STOP to quit):50\n",
            "Celsius: 10.0\n",
            "Enter another temperature in Farenheit (enter STOP to quit):STOP\n"
          ]
        }
      ]
    },
    {
      "cell_type": "markdown",
      "metadata": {
        "id": "AhO_LPgG3S1R"
      },
      "source": [
        "## How many E and e in a sentence?\n",
        "\n",
        "###Instruction: You are going to program a simple counter which finds how many 'E' and 'e' in a sentence entered by the user.\n",
        "\n",
        "step1: Ask the user to enter a sentence\n",
        "\n",
        "step2: Count the number of 'E', and the number of 'e'\n",
        "> hint: You can use a for loop to iterate all the characters in a string, such as `for c in sentence`, then compare `c` with `e` and `E`.\n",
        "\n",
        "step3: print the result"
      ]
    },
    {
      "cell_type": "code",
      "metadata": {
        "id": "2bODNGPSx1-m",
        "colab": {
          "base_uri": "https://localhost:8080/"
        },
        "outputId": "1e19ab37-07f0-4db0-c0b1-7650e99062fb"
      },
      "source": [
        "text=input('Enter a sentence: ')\n",
        "number_e=0\n",
        "number_E=0\n",
        "for i in text:\n",
        "  if i=='e':\n",
        "    number_e+=1\n",
        "  elif i=='E':\n",
        "    number_E+=1\n",
        "print('Number of e: ', number_e, 'Number of E', number_E)"
      ],
      "execution_count": null,
      "outputs": [
        {
          "output_type": "stream",
          "name": "stdout",
          "text": [
            "Enter a sentence: Enter a sentenCE\n",
            "Number of e:  3 Number of E 2\n"
          ]
        }
      ]
    },
    {
      "cell_type": "markdown",
      "metadata": {
        "id": "fZfiqg5lxFKF"
      },
      "source": [
        "## Binary Converter (Optional)\n",
        "\n",
        "###Instruction: You are going to program a decimal to binary converter.\n",
        "> Hint: For example, convert decimal 11 to binary number, we follows: 11 % 2 = **1** (you need to record it), 11 // 2 = 5; 5 % 2 = **1** (you need to record it), 5 // 2 = 2; 2 % 2 = **0**, 2 // 2 = **1**. Now you will concatenate them reversly, from the last 1, then the 0, then 1, then 1. You get 1011 as the binary representation of decimal 11.\n",
        "\n",
        "step1: Ask the user to enter a positive decimal integer.\n",
        "\n",
        "step2: Calculate the binary representation of the integer by keep dividing until the reminder is less than 2, keep record of all the reminders.\n",
        "\n",
        "step3: Print reminders as the binary representation."
      ]
    },
    {
      "cell_type": "code",
      "metadata": {
        "id": "6ZAwOiuO5G0X",
        "colab": {
          "base_uri": "https://localhost:8080/"
        },
        "outputId": "c738dede-bd47-4c45-a9cf-4309577e02ae"
      },
      "source": [
        "# In this case I will use the built in function\n",
        "value=int(input('Enter a number: '))\n",
        "binary=bin(value)\n",
        "print(binary[2:])"
      ],
      "execution_count": null,
      "outputs": [
        {
          "output_type": "stream",
          "name": "stdout",
          "text": [
            "Enter a number: 11\n",
            "1011\n"
          ]
        }
      ]
    },
    {
      "cell_type": "markdown",
      "metadata": {
        "id": "7Ysdu7UJ_qf8"
      },
      "source": [
        "**Congratulations! You finished this Assignment and completed Module 4!**"
      ]
    }
  ]
}