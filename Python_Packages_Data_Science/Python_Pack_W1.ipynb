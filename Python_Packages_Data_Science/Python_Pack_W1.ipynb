{
  "nbformat": 4,
  "nbformat_minor": 0,
  "metadata": {
    "colab": {
      "provenance": []
    },
    "kernelspec": {
      "name": "python3",
      "display_name": "Python 3"
    },
    "language_info": {
      "name": "python"
    }
  },
  "cells": [
    {
      "cell_type": "markdown",
      "source": [
        "# Week 1\n",
        "## Standard library\n",
        "- Standard library: library of pre-written functions that comes with Python.\n",
        "  - Library functions perform taska that programmers commonly need.\n",
        "    - Example: ``print``, ``ìnput``, ``range``\n",
        "    - Viewed as programmers as a \"black box\"\n",
        "- Some library functions built into Python interpreter.\n",
        "  - To use, just call the function."
      ],
      "metadata": {
        "id": "SxUpn77UL8pc"
      }
    },
    {
      "cell_type": "markdown",
      "source": [
        "## ``import`` Statement\n",
        "\n",
        "- Modules: files that stores functions of the standard library.\n",
        "  - Help organize library functions bot built into the interpreter.\n",
        "  - Copies to computer when you install Python.\n",
        "- To call a function stored in a module, need to write an ``import`` statement\n",
        "  - Written at the top of the program\n",
        "  - Format: ``import module_name``"
      ],
      "metadata": {
        "id": "fBDnmjkkOdFd"
      }
    },
    {
      "cell_type": "markdown",
      "source": [
        "## Generating Random Numbers\n",
        "- Random numbers are useful in a lot of prrgramming tasks.\n",
        "- Random module: includes library functions for working with random numbers.\n",
        "- Dot notation: notation for calling a function belonging to a module\n",
        "  - Format: ``module_name.function_name()``\n",
        "\n",
        "- randint function: generated a random number in the range provided by the arguments\n",
        "  - randint(a,b) return a random integer N that a<=N<=b.\n",
        "  - Returns the random number to part of a program that called the function.\n",
        "  - Returned integer can be used anywhere that an integer would be used.\n",
        "\n"
      ],
      "metadata": {
        "id": "dzd8yqEbQ7BM"
      }
    },
    {
      "cell_type": "markdown",
      "source": [
        "## Let's Play a game\n",
        "- We all played the game \"Rock Paper Scissor\"\n",
        "  - Rock wins scissor\n",
        "  - Scissor wins Paper\n",
        "  - Paper wins Rock\n",
        "\n",
        "- Write a program to simulate the game:\n",
        "  - We import random\n",
        "  - Call the random to produce an integer value [0,1,2] for player A\n",
        "  - Call the random again to produce an integer value [0,1,2] for Player B\n",
        "  - 0 represents Rock, 1 represents Paper, and 2 represents Scissors.\n",
        "  - We print out who is the winner.\n"
      ],
      "metadata": {
        "id": "BE_tAj-HSpk3"
      }
    },
    {
      "cell_type": "code",
      "source": [
        "# import the package\n",
        "import random"
      ],
      "metadata": {
        "id": "lfyv7m7bWqOo"
      },
      "execution_count": null,
      "outputs": []
    },
    {
      "cell_type": "code",
      "source": [
        "def result():\n",
        "  return random.randint(0,2)"
      ],
      "metadata": {
        "id": "JqEn_bXmXWzn"
      },
      "execution_count": null,
      "outputs": []
    },
    {
      "cell_type": "code",
      "source": [
        "def game():\n",
        "  a=result()\n",
        "  b=result()\n",
        "  # 0 represents rock, 1 paper, 2 scissor\n",
        "  if a==b:\n",
        "    print('Tie')\n",
        "  elif a==0 and b==2:\n",
        "    print('A is Rock and B is Scissor, A wins')\n",
        "  elif a==2 and b==0:\n",
        "    print('A is Scissor and B is Rock, B Wins')\n",
        "  elif a==0 and b==1:\n",
        "    print('A is Rock and B is Paper, B Wins')\n",
        "  elif a==1 and b==0:\n",
        "    print('A is Paper and B is Rock, A Wins')\n",
        "  elif a==1 and b==2:\n",
        "    print('A is Paper and B is Scissor B Wins')\n",
        "  else:\n",
        "    print('A is Scissor and B is paper, A Wins')\n"
      ],
      "metadata": {
        "id": "ly4CGGQ2Xhvq"
      },
      "execution_count": null,
      "outputs": []
    },
    {
      "cell_type": "code",
      "source": [
        "game()"
      ],
      "metadata": {
        "colab": {
          "base_uri": "https://localhost:8080/"
        },
        "id": "qZwTN-KMZ1NH",
        "outputId": "48a7715a-6076-4d36-8b78-ca9e7dd13899"
      },
      "execution_count": null,
      "outputs": [
        {
          "output_type": "stream",
          "name": "stdout",
          "text": [
            "A is Scissor and B is paper, A Wins\n"
          ]
        }
      ]
    },
    {
      "cell_type": "markdown",
      "source": [
        "Can you use the functions defined above, to simulate a three-round \"Rock Paper Scissor\"?. The player wins 2 out 3 wins the game."
      ],
      "metadata": {
        "id": "Buj5oUTkahiG"
      }
    },
    {
      "cell_type": "code",
      "source": [
        "def game_count():\n",
        "  a=result()\n",
        "  b=result()\n",
        "  # 0 represents Rock, 1 represents Paper and 2 represents Scissor\n",
        "  if a==0 and b==2:\n",
        "    return 'A'\n",
        "  elif a==2 and b==0:\n",
        "    return 'B'\n",
        "  elif a==0 and b==1:\n",
        "    return 'B'\n",
        "  elif a==1 and b==0:\n",
        "    return 'A'\n",
        "  elif a==1 and b==2:\n",
        "    return 'B'\n",
        "  elif a==2 and b==1:\n",
        "    return 'A'\n",
        "  else:\n",
        "    return 'T'\n",
        "\n",
        "def multi_game(n):\n",
        "    a_win=0\n",
        "    b_win=0\n",
        "    for i in range(n):\n",
        "      result=game_count()\n",
        "      if result=='A':\n",
        "       a_win+=1\n",
        "      elif result=='B':\n",
        "       b_win+=1\n",
        "    print('A won:', a_win, 'B won:', b_win)\n"
      ],
      "metadata": {
        "id": "U_1IHJfkZ2R2"
      },
      "execution_count": null,
      "outputs": []
    },
    {
      "cell_type": "code",
      "source": [
        "multi_game(3)"
      ],
      "metadata": {
        "colab": {
          "base_uri": "https://localhost:8080/"
        },
        "id": "2Y9fBkIydEG4",
        "outputId": "d8a65790-7637-4bdf-b44a-f6a4bd9a47e2"
      },
      "execution_count": null,
      "outputs": [
        {
          "output_type": "stream",
          "name": "stdout",
          "text": [
            "A won: 2 B won: 1\n"
          ]
        }
      ]
    },
    {
      "cell_type": "code",
      "source": [
        "multi_game(99)"
      ],
      "metadata": {
        "colab": {
          "base_uri": "https://localhost:8080/"
        },
        "id": "g02OjGZqdrYV",
        "outputId": "afc0ee87-02b5-4f12-9fe3-bdbb59289c0e"
      },
      "execution_count": null,
      "outputs": [
        {
          "output_type": "stream",
          "name": "stdout",
          "text": [
            "A won: 37 B won: 31\n"
          ]
        }
      ]
    },
    {
      "cell_type": "markdown",
      "source": [
        "## Generating Random Numbers\n",
        "- randrange function: similar to range function, but returns randomly selected integer from the rsulting sequence.\n",
        "  - Same arguments as for the ``range`` function.\n",
        "- random function: returns a random float in the range of 0.0 and 1.0.\n",
        "  - Does not receive arguments\n",
        "- uniform function: returns a random float but allows user to specify range.\n",
        "\n",
        "\n",
        "## Random number seeds\n",
        "\n",
        "- Random number created by functions in random module are actually pseudo-random numbers.\n",
        "- Seed value: initializes the formula that generates random numbers.\n",
        "  - Need to use different seeds to get different series of random numbers.\n",
        "  - By defuault uses system time for seed.\n",
        "  - Can use ``random.seed()`` function to specify desired seed value.\n",
        "\n",
        "\n"
      ],
      "metadata": {
        "id": "fCVFRNmA_X-s"
      }
    },
    {
      "cell_type": "markdown",
      "source": [
        "## Let's Play a game\n",
        "- We all played the game \"flip a coin\"\n",
        "  - it can be either head-up, or tail-up.\n",
        "- Let's write a program to simulate a flip.\n",
        "  - We import random\n",
        "  - call the random to produce a float value in [0,1]\n",
        "  - If the value is >=0.5, we say, the coin is head up.\n",
        "  - Otherwise, we say, the coin is tail-up.\n",
        "  "
      ],
      "metadata": {
        "id": "fHW4Bp3ICfhA"
      }
    },
    {
      "cell_type": "code",
      "source": [
        "import random"
      ],
      "metadata": {
        "id": "xxuVDWgNC_hx"
      },
      "execution_count": null,
      "outputs": []
    },
    {
      "cell_type": "code",
      "source": [
        "def coin_flip():\n",
        "  if random.random()>=0.5: # returns a random float number between 0.0 and 1.0\n",
        "    return 'Head'\n",
        "  else:\n",
        "    return 'Tail'"
      ],
      "metadata": {
        "id": "_nqRwOyDG3l7"
      },
      "execution_count": null,
      "outputs": []
    },
    {
      "cell_type": "code",
      "source": [
        "print(coin_flip())"
      ],
      "metadata": {
        "colab": {
          "base_uri": "https://localhost:8080/"
        },
        "id": "YfDpG_V2HLk2",
        "outputId": "4f7457e6-51b4-450a-b129-571c338deccc"
      },
      "execution_count": null,
      "outputs": [
        {
          "output_type": "stream",
          "name": "stdout",
          "text": [
            "Head\n"
          ]
        }
      ]
    },
    {
      "cell_type": "code",
      "source": [
        "# Use the function defined above to flip the coin 100 times, 1000 times\n",
        "# return the basic statistics of the experiment %of heads and tail\n",
        "\n",
        "\n",
        "def multi_coin_count(n):\n",
        "    head=0\n",
        "    tail=0\n",
        "    for i in range(n):\n",
        "      result=coin_flip()\n",
        "      if result=='Head':\n",
        "       head+=1\n",
        "      elif result=='Tail':\n",
        "       tail+=1\n",
        "    print('Percentage of Head:', f\"{head/n:.0%}\", 'Percentage of Tail:', f\"{tail/n:.0%}\")\n"
      ],
      "metadata": {
        "id": "kNyOcSD2HlL_"
      },
      "execution_count": null,
      "outputs": []
    },
    {
      "cell_type": "code",
      "source": [
        "multi_coin_count(10000)"
      ],
      "metadata": {
        "colab": {
          "base_uri": "https://localhost:8080/"
        },
        "id": "y5RqlXKSJPOu",
        "outputId": "0b5e4d56-fb05-4291-cc04-9c4789765805"
      },
      "execution_count": null,
      "outputs": [
        {
          "output_type": "stream",
          "name": "stdout",
          "text": [
            "Percentage of Head: 50% Percentage of Tail: 50%\n"
          ]
        }
      ]
    },
    {
      "cell_type": "markdown",
      "source": [
        "## The ``math`` Module\n",
        "- math module: part of standard library that contains functions that are useful for performing mathematical calculations.\n",
        "  - Typically accept one or more values as arguments, perform mathematical operation, and return the result.\n",
        "  - Use of module requires an ``import math`` statement.\n",
        "\n",
        "To deal with numbers we need intense mathematical calculations. Is a widely used module with various functions. Let's see some examples.\n",
        "\n",
        "| Function          | Description                                                                                                       |\n",
        "|-------------------|-------------------------------------------------------------------------------------------------------------------|\n",
        "| `math.ceil(x)`    | Returns the smallest integer greater than or equal to `x`.                                                        |\n",
        "| `math.floor(x)`   | Returns the largest integer less than or equal to `x`.                                                            |\n",
        "| `math.sqrt(x)`    | Returns the square root of `x`.                                                                                   |\n",
        "| `math.exp(x)`     | Returns the exponential of `x`, e^x.                                                                              |\n",
        "| `math.log(x, b)`  | Returns the natural logarithm of `x` if base `b` is not provided, otherwise returns the logarithm base `b` of `x`.|\n",
        "| `math.sin(x)`     | Returns the sine of `x` (in radians).                                                                             |\n",
        "| `math.cos(x)`     | Returns the cosine of `x` (in radians).                                                                           |\n",
        "| `math.tan(x)`     | Returns the tangent of `x` (in radians).                                                                          |\n",
        "| `math.radians(x)` | Converts angle `x` from degrees to radians.                                                                       |\n",
        "| `math.degrees(x)` | Converts angle `x` from radians to degrees.                                                                       |\n",
        "\n"
      ],
      "metadata": {
        "id": "9PQ2uWjjN5eh"
      }
    },
    {
      "cell_type": "markdown",
      "source": [
        "## The ``math`` module\n",
        "- The ```math ``` module defines variables ``pi`` and ``e``, which are assigned the mathematical values ofr $\\pi$ and $e$.\n",
        "  - Can be used in equations that require these values, to get more accurate results.\n",
        "- Variables must also be called using the dot notation.\n",
        "  - Example: ``circle_area=math.pi*radius**2``\n",
        "\n",
        "## Packages for Data Science\n",
        "- There are many packages for Data Science, some examples are:\n",
        "  - numpy: dealing with multidimensional arrays.\n",
        "  - pandas: dealing with tabular data with simple visualization.\n",
        "  - matplotlib: simple data visualization.\n",
        "  - seaborn: fancy data visualization.\n"
      ],
      "metadata": {
        "id": "3SQqRBX7USV4"
      }
    },
    {
      "cell_type": "markdown",
      "source": [
        "#Welcome to our Lab practice!\n",
        "\n",
        "This lab is all about the package, random. Are you ready? Let's go!\n",
        "\n",
        "You will find some small tasks in sections below.\n",
        "\n",
        "> Try to figure out by yourself, or search for references. Being able to search and find information needed is an important skill that benefits you and your career for a long time.\n",
        "\n",
        "\n",
        "\n"
      ],
      "metadata": {
        "id": "fe7l2Vy92BWu"
      }
    },
    {
      "cell_type": "markdown",
      "source": [
        "## Random Int"
      ],
      "metadata": {
        "id": "TTElGHtF2N7g"
      }
    },
    {
      "cell_type": "markdown",
      "source": [
        "### Task: Generate a random positive integer less than 10."
      ],
      "metadata": {
        "id": "0CtQu71C3PP8"
      }
    },
    {
      "cell_type": "code",
      "source": [
        "import random"
      ],
      "metadata": {
        "id": "n7qiruks8HZ5"
      },
      "execution_count": null,
      "outputs": []
    },
    {
      "cell_type": "code",
      "source": [
        "def pos_integer():\n",
        "  return random.randint(1,9)\n",
        "\n",
        "pos_integer()"
      ],
      "metadata": {
        "colab": {
          "base_uri": "https://localhost:8080/"
        },
        "id": "XZjwmGs1aG8T",
        "outputId": "2239fd7d-5761-47e3-cc2c-063bc97fe074"
      },
      "execution_count": null,
      "outputs": [
        {
          "output_type": "execute_result",
          "data": {
            "text/plain": [
              "7"
            ]
          },
          "metadata": {},
          "execution_count": 33
        }
      ]
    },
    {
      "cell_type": "code",
      "source": [
        "# another solution\n",
        "n=random.randint(1,9)\n",
        "print(n)"
      ],
      "metadata": {
        "colab": {
          "base_uri": "https://localhost:8080/"
        },
        "id": "3o56DRNcajVJ",
        "outputId": "e73ce1b8-dcd5-4275-9af9-1fe5df803020"
      },
      "execution_count": null,
      "outputs": [
        {
          "output_type": "stream",
          "name": "stdout",
          "text": [
            "7\n"
          ]
        }
      ]
    },
    {
      "cell_type": "markdown",
      "source": [
        "### Task: Generate a random integer within 0 (inclusive) and 100 (inclusive)"
      ],
      "metadata": {
        "id": "3FK5QxBO3dqS"
      }
    },
    {
      "cell_type": "code",
      "source": [
        "n=random.randint(0,100)\n",
        "print(n)"
      ],
      "metadata": {
        "id": "w-XimSI88J1J",
        "colab": {
          "base_uri": "https://localhost:8080/"
        },
        "outputId": "5f7963b2-4b51-4172-d48c-db3db6ff26af"
      },
      "execution_count": null,
      "outputs": [
        {
          "output_type": "stream",
          "name": "stdout",
          "text": [
            "79\n"
          ]
        }
      ]
    },
    {
      "cell_type": "markdown",
      "source": [
        "### Task: Generate a random integer within a and b, where a and b are user entered integers and a $<=$ b"
      ],
      "metadata": {
        "id": "42rLKWbe3l8m"
      }
    },
    {
      "cell_type": "code",
      "source": [
        "a=int(input('provide a value for a: '))\n",
        "b=int(input('provide a value for b: '))\n",
        "\n",
        "if a>b:\n",
        "  a,b=b,a\n",
        "  n=random.randint(a,b)\n",
        "  print(n)"
      ],
      "metadata": {
        "id": "ExbcAYLk8LYI",
        "colab": {
          "base_uri": "https://localhost:8080/"
        },
        "outputId": "d0c57e78-9870-4385-de0c-6bda5c4811a5"
      },
      "execution_count": null,
      "outputs": [
        {
          "output_type": "stream",
          "name": "stdout",
          "text": [
            "provide a value for a: 30\n",
            "provide a value for b: 10\n",
            "13\n"
          ]
        }
      ]
    },
    {
      "cell_type": "markdown",
      "source": [
        "## Random Float"
      ],
      "metadata": {
        "id": "1ut5x4Zl2RVu"
      }
    },
    {
      "cell_type": "markdown",
      "source": [
        "### Task: Generate a random float number between 0 and 1\n",
        "> hint: use random()"
      ],
      "metadata": {
        "id": "dGUiTYKM4XTF"
      }
    },
    {
      "cell_type": "code",
      "source": [
        "i=random.random()\n",
        "print(i)"
      ],
      "metadata": {
        "id": "MQ9sEgvL8Mph",
        "colab": {
          "base_uri": "https://localhost:8080/"
        },
        "outputId": "838fa68f-ba85-4f0c-f7d7-9631c2c9694a"
      },
      "execution_count": null,
      "outputs": [
        {
          "output_type": "stream",
          "name": "stdout",
          "text": [
            "0.5889413187878849\n"
          ]
        }
      ]
    },
    {
      "cell_type": "markdown",
      "source": [
        "### Task: Generate a random float number between 0 and 10.\n",
        "> hint: use uniform()"
      ],
      "metadata": {
        "id": "VYkj8Sni5SLY"
      }
    },
    {
      "cell_type": "code",
      "source": [
        "n=random.uniform(0,10)\n",
        "print(n)"
      ],
      "metadata": {
        "id": "ezJbefBc8NSc",
        "colab": {
          "base_uri": "https://localhost:8080/"
        },
        "outputId": "511e416b-dea7-44cf-cdf9-999c0e9e953d"
      },
      "execution_count": null,
      "outputs": [
        {
          "output_type": "stream",
          "name": "stdout",
          "text": [
            "7.514018411759842\n"
          ]
        }
      ]
    },
    {
      "cell_type": "code",
      "source": [
        "# modified code just to apply both functions\n",
        "a=random.randint(0,10)\n",
        "b=random.random()\n",
        "val=a*b\n",
        "print(val)"
      ],
      "metadata": {
        "colab": {
          "base_uri": "https://localhost:8080/"
        },
        "id": "rTFy1yAYbnut",
        "outputId": "9625ddd4-4ef9-4c67-b372-08296627cd79"
      },
      "execution_count": null,
      "outputs": [
        {
          "output_type": "stream",
          "name": "stdout",
          "text": [
            "3.22130693697586\n"
          ]
        }
      ]
    },
    {
      "cell_type": "markdown",
      "source": [
        "### Task: Generate a random float number between 5 and 10\n",
        ">hint: use uniform()"
      ],
      "metadata": {
        "id": "-BEsJESu4hx0"
      }
    },
    {
      "cell_type": "code",
      "source": [
        "i=random.uniform(5,10)\n",
        "print(i)"
      ],
      "metadata": {
        "id": "GqsoQylO8Nz4",
        "colab": {
          "base_uri": "https://localhost:8080/"
        },
        "outputId": "3347a5f3-67b3-43f7-ad66-aeb19e6c1c71"
      },
      "execution_count": null,
      "outputs": [
        {
          "output_type": "stream",
          "name": "stdout",
          "text": [
            "7.8427804178391\n"
          ]
        }
      ]
    },
    {
      "cell_type": "markdown",
      "source": [
        "### Task: Generate a random float number based on the Gaussian distribution\n",
        "> hint: search and learn gauss()"
      ],
      "metadata": {
        "id": "hi4_PetZ4oJk"
      }
    },
    {
      "cell_type": "code",
      "source": [
        "g=random.gauss(0,1)\n",
        "print(g)"
      ],
      "metadata": {
        "id": "Iwz0Ljxs8OqA",
        "colab": {
          "base_uri": "https://localhost:8080/"
        },
        "outputId": "e05d0996-5e5c-4359-93ea-22e9a79857a7"
      },
      "execution_count": null,
      "outputs": [
        {
          "output_type": "stream",
          "name": "stdout",
          "text": [
            "0.71106576606793\n"
          ]
        }
      ]
    },
    {
      "cell_type": "markdown",
      "source": [
        "## Random Datasets\n",
        "\n",
        "### Genearte a list of 1000 random floats within 0 and 1."
      ],
      "metadata": {
        "id": "WYQEAas1TGrt"
      }
    },
    {
      "cell_type": "code",
      "source": [
        "l=[]\n",
        "for i in range(1000):\n",
        "  l.append(random.random())"
      ],
      "metadata": {
        "id": "yTk4pwujTElz"
      },
      "execution_count": null,
      "outputs": []
    },
    {
      "cell_type": "markdown",
      "source": [
        "### Generate a list of 1000 random integers within 0 and 10."
      ],
      "metadata": {
        "id": "Ngk3kk8pTVcy"
      }
    },
    {
      "cell_type": "code",
      "source": [
        "l=[]\n",
        "for i in range(1000):\n",
        "  l.append(random.randint(0,10))"
      ],
      "metadata": {
        "id": "q0UMrIi6TU_b"
      },
      "execution_count": null,
      "outputs": []
    },
    {
      "cell_type": "markdown",
      "source": [
        "### Generate a list of 1000 numbers following normal distribution with 10 as mean, and 1 as standard derivation."
      ],
      "metadata": {
        "id": "mI2RdvrJTwc7"
      }
    },
    {
      "cell_type": "code",
      "source": [
        "l=[]\n",
        "for i in range(1000):\n",
        "  l.append(random.normalvariate(10,1))"
      ],
      "metadata": {
        "id": "J5QlBi6UT6Mp"
      },
      "execution_count": null,
      "outputs": []
    },
    {
      "cell_type": "markdown",
      "source": [
        "## Explore random module\n",
        "\n",
        "random module has many other functions besides random(), randint(), and the ones we have used above. Please search and explore by yourself -- this is a skill more important than learning materials presented to you. In your future career, you will have to explore unknown, and learn new skills, all the time."
      ],
      "metadata": {
        "id": "UOtTtRQK2WA9"
      }
    },
    {
      "cell_type": "code",
      "source": [
        "import matplotlib.pyplot as plt\n",
        "import random"
      ],
      "metadata": {
        "id": "FZop1pgXdj8q"
      },
      "execution_count": null,
      "outputs": []
    },
    {
      "cell_type": "code",
      "source": [
        "# Generate a list of 1000 numbers following normal distribution with 10 as mean, and 1 as standard derivation\n",
        "\n",
        "l=[]\n",
        "for i in range(1000):\n",
        "  l.append(random.normalvariate(10,1))\n",
        "\n",
        "plt.scatter(range(1000), l, s=5, color='blue', alpha=0.5)  # s sets the size of markers, alpha sets transparency\n",
        "plt.xlabel('Index')\n",
        "plt.ylabel('Value')\n",
        "plt.title('Scatter Plot of Random Numbers')\n",
        "plt.show()\n",
        "\n",
        "\n",
        "# plotting a graph\n",
        "plt.hist(l, bins = 100, edgecolor='black')\n",
        "plt.show()"
      ],
      "metadata": {
        "id": "WvrV6pOOgnJp",
        "colab": {
          "base_uri": "https://localhost:8080/",
          "height": 885
        },
        "outputId": "b1dcdbb2-c9f9-4173-a598-6f0e06b613b7"
      },
      "execution_count": null,
      "outputs": [
        {
          "output_type": "display_data",
          "data": {
            "text/plain": [
              "<Figure size 640x480 with 1 Axes>"
            ],
            "image/png": "[encoded data removed]"
          },
          "metadata": {}
        },
        {
          "output_type": "display_data",
          "data": {
            "text/plain": [
              "<Figure size 640x480 with 1 Axes>"
            ],
            "image/png": "[encoded data removed]"
          },
          "metadata": {}
        }
      ]
    },
    {
      "cell_type": "code",
      "source": [
        "# another example with Gaussian distribution\n",
        "\n",
        "\n",
        "l=[]\n",
        "for i in range(1000):\n",
        "  l.append(random.gauss(10,1))\n",
        "\n",
        "plt.scatter(range(1000), l, s=5, color='blue', alpha=0.5)  # s sets the size of markers, alpha sets transparency\n",
        "plt.xlabel('Index')\n",
        "plt.ylabel('Value')\n",
        "plt.title('Scatter Plot of Random Numbers')\n",
        "plt.show()\n",
        "\n",
        "\n",
        "# plotting a graph\n",
        "plt.hist(l, bins = 100, edgecolor='black')\n",
        "plt.show()\n"
      ],
      "metadata": {
        "colab": {
          "base_uri": "https://localhost:8080/",
          "height": 885
        },
        "id": "mVE4Du36fXrS",
        "outputId": "a7895268-3f70-4f8d-f54b-c75701df8153"
      },
      "execution_count": null,
      "outputs": [
        {
          "output_type": "display_data",
          "data": {
            "text/plain": [
              "<Figure size 640x480 with 1 Axes>"
            ],
            "image/png": "[encoded data removed]"
          },
          "metadata": {}
        },
        {
          "output_type": "display_data",
          "data": {
            "text/plain": [
              "<Figure size 640x480 with 1 Axes>"
            ],
            "image/png": "[encoded data removed]"
          },
          "metadata": {}
        }
      ]
    },
    {
      "cell_type": "markdown",
      "source": [
        "## Explore math module\n",
        "\n",
        "math module is another interesting and useful module to help you deal with math. Explore and learn by yourself."
      ],
      "metadata": {
        "id": "GPn4oz6p7NnL"
      }
    },
    {
      "cell_type": "code",
      "source": [
        "import math"
      ],
      "metadata": {
        "id": "3_N2Nz_ignsJ"
      },
      "execution_count": null,
      "outputs": []
    },
    {
      "cell_type": "code",
      "source": [
        "math.sin(math.radians(90))"
      ],
      "metadata": {
        "colab": {
          "base_uri": "https://localhost:8080/"
        },
        "id": "GrqUKXsCgUcR",
        "outputId": "d4a50eeb-e11d-4958-ced4-054cf6adcfd8"
      },
      "execution_count": null,
      "outputs": [
        {
          "output_type": "execute_result",
          "data": {
            "text/plain": [
              "1.0"
            ]
          },
          "metadata": {},
          "execution_count": 80
        }
      ]
    },
    {
      "cell_type": "code",
      "source": [
        "import matplotlib.pyplot as plt\n",
        "import math\n",
        "sinus=[]\n",
        "coseno=[]\n",
        "for i in range(360):\n",
        "  sinus.append(math.sin(math.radians(i)))\n",
        "  coseno.append(math.cos(math.radians(i)))\n",
        "\n",
        "c = [s + c for s, c in zip(sinus, coseno)] # sum of both functions\n",
        "\n",
        "# Create line plots\n",
        "plt.plot(range(360), sinus, color='blue', label='Sine')\n",
        "plt.plot(range(360), coseno, color='red', label='Cosine')\n",
        "plt.plot(range(360), c, color='green', label='Sum of Sine and Cosine')\n",
        "\n",
        "plt.xlabel('Angle (degrees)')\n",
        "plt.ylabel('Value')\n",
        "plt.title('Plot of Sine and Cosine Functions')\n",
        "plt.legend()  # Add legend\n",
        "plt.grid(True)  # Add grid\n",
        "plt.show()"
      ],
      "metadata": {
        "colab": {
          "base_uri": "https://localhost:8080/",
          "height": 472
        },
        "id": "I9eBkDomgxZf",
        "outputId": "8e8c0d7b-7a4e-4426-90ac-ef1a8e9f4967"
      },
      "execution_count": null,
      "outputs": [
        {
          "output_type": "display_data",
          "data": {
            "text/plain": [
              "<Figure size 640x480 with 1 Axes>"
            ],
            "image/png": "[encoded data removed]"
          },
          "metadata": {}
        }
      ]
    },
    {
      "cell_type": "code",
      "source": [
        "# Testing the random function with a seed\n",
        "import random\n",
        "# we will set a seed\n",
        "random.seed(42)\n",
        "# Generating random numbers\n",
        "print(random.randint(1, 100))\n",
        "print(random.randint(1, 100))\n",
        "print(random.randint(1, 100))\n"
      ],
      "metadata": {
        "colab": {
          "base_uri": "https://localhost:8080/"
        },
        "id": "ErzXC8zxaLdw",
        "outputId": "e322f203-c71d-462b-f5e5-482a168c48ec"
      },
      "execution_count": null,
      "outputs": [
        {
          "output_type": "stream",
          "name": "stdout",
          "text": [
            "82\n",
            "15\n",
            "4\n"
          ]
        }
      ]
    },
    {
      "cell_type": "markdown",
      "source": [
        "If we run the same lines of code, even if we use the random function with a certain seed. We arrive to the same set of numbers."
      ],
      "metadata": {
        "id": "PsmdgmCraes9"
      }
    },
    {
      "cell_type": "code",
      "source": [
        "random.seed(42)\n",
        "# Generating random numbers\n",
        "print(random.randint(1, 100))\n",
        "print(random.randint(1, 100))\n",
        "print(random.randint(1, 100))"
      ],
      "metadata": {
        "colab": {
          "base_uri": "https://localhost:8080/"
        },
        "id": "VMzXm6MPabyI",
        "outputId": "4e9b8b85-181f-41c7-96c7-e741e9099f97"
      },
      "execution_count": null,
      "outputs": [
        {
          "output_type": "stream",
          "name": "stdout",
          "text": [
            "82\n",
            "15\n",
            "4\n"
          ]
        }
      ]
    }
  ]
}